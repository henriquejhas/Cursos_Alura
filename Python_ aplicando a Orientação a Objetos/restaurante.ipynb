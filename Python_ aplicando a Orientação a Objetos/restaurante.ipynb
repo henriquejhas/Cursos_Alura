{
  "nbformat": 4,
  "nbformat_minor": 0,
  "metadata": {
    "colab": {
      "provenance": [],
      "authorship_tag": "ABX9TyNOVKCbZNKIgr6raGs9Q/Ck",
      "include_colab_link": true
    },
    "kernelspec": {
      "name": "python3",
      "display_name": "Python 3"
    },
    "language_info": {
      "name": "python"
    }
  },
  "cells": [
    {
      "cell_type": "markdown",
      "metadata": {
        "id": "view-in-github",
        "colab_type": "text"
      },
      "source": [
        "<a href=\"https://colab.research.google.com/github/henriquejhas/Cursos_Alura/blob/main/Python%3A%20aplicando%20a%20Orienta%C3%A7%C3%A3o%20a%20Objetos/restaurante.ipynb\" target=\"_parent\"><img src=\"https://colab.research.google.com/assets/colab-badge.svg\" alt=\"Open In Colab\"/></a>"
      ]
    },
    {
      "cell_type": "code",
      "execution_count": null,
      "metadata": {
        "id": "o-mmGaSb11Mu"
      },
      "outputs": [],
      "source": [
        "from modelos.avaliacao import Avaliacao\n",
        "\n",
        "class Restaurante:\n",
        "    \"\"\"Representa um restaurante e suas características.\"\"\"\n",
        "\n",
        "    restaurantes = []\n",
        "\n",
        "    def __init__(self, nome, categoria):\n",
        "        \"\"\"\n",
        "        Inicializa uma instância de Restaurante.\n",
        "\n",
        "        Parâmetros:\n",
        "        - nome (str): O nome do restaurante.\n",
        "        - categoria (str): A categoria do restaurante.\n",
        "        \"\"\"\n",
        "        self._nome = nome.title()\n",
        "        self._categoria = categoria.upper()\n",
        "        self._ativo = False\n",
        "        self._avaliacao = []\n",
        "        Restaurante.restaurantes.append(self)\n",
        "\n",
        "    def __str__(self):\n",
        "        \"\"\"Retorna uma representação em string do restaurante.\"\"\"\n",
        "        return f'{self._nome} | {self._categoria}'\n",
        "\n",
        "    @classmethod\n",
        "    def listar_restaurantes(cls):\n",
        "        \"\"\"Exibe uma lista formatada de todos os restaurantes.\"\"\"\n",
        "        print(f'{\"Nome do restaurante\".ljust(25)} | {\"Categoria\".ljust(25)} | {'Avaliação'.ljust(25)} | {\"Status\"}')\n",
        "        for restaurante in cls.restaurantes:\n",
        "            print(f'{restaurante._nome.ljust(25)} | {restaurante._categoria.ljust(25)} | {str(restaurante.media_avaliacoes).ljust(25)} | {restaurante.ativo}')\n",
        "\n",
        "    @property\n",
        "    def ativo(self):\n",
        "        \"\"\"Retorna um símbolo indicando o estado de atividade do restaurante.\"\"\"\n",
        "        return '⌧' if self._ativo else '☐'\n",
        "\n",
        "    def alternar_estado(self):\n",
        "        \"\"\"Alterna o estado de atividade do restaurante.\"\"\"\n",
        "        self._ativo = not self._ativo\n",
        "\n",
        "    def receber_avaliacao(self, cliente, nota):\n",
        "        \"\"\"\n",
        "        Registra uma avaliação para o restaurante.\n",
        "\n",
        "        Parâmetros:\n",
        "        - cliente (str): O nome do cliente que fez a avaliação.\n",
        "        - nota (float): A nota atribuída ao restaurante (entre 1 e 5).\n",
        "        \"\"\"\n",
        "        if 0 < nota <= 5:\n",
        "            avaliacao = Avaliacao(cliente, nota)\n",
        "            self._avaliacao.append(avaliacao)\n",
        "\n",
        "    @property\n",
        "    def media_avaliacoes(self):\n",
        "        \"\"\"Calcula e retorna a média das avaliações do restaurante.\"\"\"\n",
        "        if not self._avaliacao:\n",
        "            return '-'\n",
        "        soma_das_notas = sum(avaliacao._nota for avaliacao in self._avaliacao)\n",
        "        quantidade_de_notas = len(self._avaliacao)\n",
        "        media = round(soma_das_notas / quantidade_de_notas, 1)\n",
        "        return media"
      ]
    }
  ]
}