{
  "nbformat": 4,
  "nbformat_minor": 0,
  "metadata": {
    "colab": {
      "provenance": [],
      "authorship_tag": "ABX9TyM6IzIK/AFqjlGb9V7gW4dK",
      "include_colab_link": true
    },
    "kernelspec": {
      "name": "python3",
      "display_name": "Python 3"
    },
    "language_info": {
      "name": "python"
    }
  },
  "cells": [
    {
      "cell_type": "markdown",
      "metadata": {
        "id": "view-in-github",
        "colab_type": "text"
      },
      "source": [
        "<a href=\"https://colab.research.google.com/github/henriquejhas/Cursos_Alura/blob/main/Python%3A%20aplicando%20a%20Orienta%C3%A7%C3%A3o%20a%20Objetos/exercicio_classe4.ipynb\" target=\"_parent\"><img src=\"https://colab.research.google.com/assets/colab-badge.svg\" alt=\"Open In Colab\"/></a>"
      ]
    },
    {
      "cell_type": "code",
      "execution_count": null,
      "metadata": {
        "colab": {
          "base_uri": "https://localhost:8080/"
        },
        "id": "QXrgSU_5L8Rt",
        "outputId": "c7fdd4dd-668e-44b2-b222-0223e1da586d"
      },
      "outputs": [
        {
          "output_type": "stream",
          "name": "stdout",
          "text": [
            "1984(George Orwell) - 1949\n",
            "O Senhor dos Anéis(J.R.R. Tolkien) - 1954\n",
            "\n",
            "Indisponível\n",
            "O livro O Pequeno Príncipe esta Indisponível\n",
            "\n",
            "Resultado da pesquisa:\n",
            "1984(George Orwell) - 1949\n",
            "\n",
            "Orgulho e Preconceito(Jane Austen) - 1813\n",
            "O Nome da Rosa(Umberto Eco) - 1980 \n"
          ]
        }
      ],
      "source": [
        "# 1 Crie uma classe chamada Livro com um construtor que aceita os parâmetros\n",
        "# titulo, autor e ano_publicacao. Inicie um atributo chamado disponivel como\n",
        "# True por padrão.\n",
        "\n",
        "# 2 Na classe Livro, adicione um método especial str que retorna uma mensagem\n",
        "# formatada com o título, autor e ano de publicação do livro. Crie duas instâncias\n",
        "# da classe Livro e imprima essas instâncias\n",
        "\n",
        "# 3 Adicione um método de instância chamado emprestar à classe Livro que define\n",
        "# o atributo disponivel como False. Crie uma instância da classe, chame o método\n",
        "# emprestar e imprima se o livro está disponível ou não.\n",
        "\n",
        "# 4 Adicione um método estático chamado verificar_disponibilidade à classe Livro\n",
        "# que recebe um ano como parâmetro e retorna uma lista dos livros disponíveis\n",
        "# publicados nesse ano.\n",
        "\n",
        "# 5 Crie um arquivo chamado biblioteca.py e importe a classe Livro neste arquivo.\n",
        "\n",
        "# 6 No arquivo biblioteca.py, empreste o livro chamando o método emprestar e\n",
        "# imprima se o livro está disponível ou não após o empréstimo.\n",
        "\n",
        "# 7 No arquivo biblioteca.py, utilize o método estático verificar_disponibilidade\n",
        "# para obter a lista de livros disponíveis publicados em um ano específico.\n",
        "\n",
        "# 8 Crie um arquivo chamado main.py, importe a classe Livro e, no arquivo main.py,\n",
        "# instancie dois objetos da classe Livro e exiba a mensagem formatada utilizando\n",
        "# o método str.\n",
        "class Livro:\n",
        "    livros = []\n",
        "\n",
        "    def __init__(self, titulo, autor, ano_publicacao):\n",
        "        self._titulo = titulo\n",
        "        self._autor = autor\n",
        "        self._ano_publicacao = ano_publicacao\n",
        "        self._disponivel = True\n",
        "\n",
        "        self.livros.append(self)\n",
        "\n",
        "    def __str__(self):\n",
        "        return f'{self._titulo}({self._autor}) - {self._ano_publicacao}'\n",
        "\n",
        "    def emprestar(self):\n",
        "        self._disponivel = False\n",
        "\n",
        "    @property\n",
        "    def disponivel(self):\n",
        "        return 'Disponível' if self._disponivel else \"Indisponível\"\n",
        "\n",
        "    @staticmethod\n",
        "    def verificar_disponibilidade(ano):\n",
        "        resultado = [livro for livro in Livro.livros if livro._ano_publicacao == ano and livro.disponivel]\n",
        "        return resultado\n",
        "\n",
        "\n",
        "livro1 = Livro('1984', 'George Orwell', '1949')\n",
        "livro2 = Livro('O Senhor dos Anéis', 'J.R.R. Tolkien', '1954')\n",
        "\n",
        "print(livro1)\n",
        "print(livro2)\n",
        "\n",
        "livro3 = Livro('O Pequeno Príncipe', 'Antoine de Saint-Exupéry', '1943')\n",
        "livro3.emprestar()\n",
        "print()\n",
        "print(livro3.disponivel)\n",
        "\n",
        "\n",
        "# -------- arquivo biblioteca.py --------\n",
        "\n",
        "# from livro import *\n",
        "\n",
        "livro3.emprestar()\n",
        "print(f'O livro {livro3._titulo} esta {livro3.disponivel}')\n",
        "print()\n",
        "\n",
        "livros_disponiveis = Livro.verificar_disponibilidade('1949')\n",
        "print(\"Resultado da pesquisa:\")\n",
        "for livro in livros_disponiveis:\n",
        "    print(livro)\n",
        "\n",
        "print()\n",
        "\n",
        "# -------- arquivo main.py --------\n",
        "\n",
        "\n",
        "# from livro import Livro\n",
        "\n",
        "livro4 = Livro('Orgulho e Preconceito', 'Jane Austen', '1813')\n",
        "livro5 = Livro('O Nome da Rosa', 'Umberto Eco', '1980 ')\n",
        "\n",
        "print(livro4)\n",
        "print(livro5)"
      ]
    },
    {
      "cell_type": "code",
      "source": [],
      "metadata": {
        "id": "8R2gH3tvQf3j"
      },
      "execution_count": null,
      "outputs": []
    }
  ]
}