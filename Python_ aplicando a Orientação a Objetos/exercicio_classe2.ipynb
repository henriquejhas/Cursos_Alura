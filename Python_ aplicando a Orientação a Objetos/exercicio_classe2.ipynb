{
  "nbformat": 4,
  "nbformat_minor": 0,
  "metadata": {
    "colab": {
      "provenance": [],
      "authorship_tag": "ABX9TyOiddp8MZz/cylUt1Q21vYQ",
      "include_colab_link": true
    },
    "kernelspec": {
      "name": "python3",
      "display_name": "Python 3"
    },
    "language_info": {
      "name": "python"
    }
  },
  "cells": [
    {
      "cell_type": "markdown",
      "metadata": {
        "id": "view-in-github",
        "colab_type": "text"
      },
      "source": [
        "<a href=\"https://colab.research.google.com/github/henriquejhas/Cursos_Alura/blob/main/Python%3A%20aplicando%20a%20Orienta%C3%A7%C3%A3o%20a%20Objetos/exercicio_classe2.ipynb\" target=\"_parent\"><img src=\"https://colab.research.google.com/assets/colab-badge.svg\" alt=\"Open In Colab\"/></a>"
      ]
    },
    {
      "cell_type": "code",
      "execution_count": null,
      "metadata": {
        "colab": {
          "base_uri": "https://localhost:8080/"
        },
        "id": "OtLkCkBOKwfm",
        "outputId": "dafc091c-3d8c-4cd1-d146-cacc24d7e944"
      },
      "outputs": [
        {
          "output_type": "stream",
          "name": "stdout",
          "text": [
            "Restaurante: JBurgue - Categoria: Hamburgueria\n",
            "Jefferson, 32 anos, Desenvolvedor\n",
            "Ariane, 22 anos, Professora\n",
            "Ariele, 5 anos, \n",
            "\n",
            "Informações após aniversário:\n",
            "Jefferson, 32 anos, Desenvolvedor\n",
            "Ariane, 23 anos, Professora\n",
            "Ariele, 6 anos, \n",
            "\n",
            "Olá, meu nome é Jefferson, eu sou Desenvolvedor\n",
            "Olá, meu nome é Ariane, eu sou Professora\n",
            "Olá,meu nome é Ariele\n"
          ]
        }
      ],
      "source": [
        "#Implemente uma classe chamada Carro com os atributos básicos,\n",
        "#como modelo, cor e ano. Crie uma instância dessa classe e atribua\n",
        "# valores aos seus atributos.\n",
        "\n",
        "class Carro:\n",
        "  def __init__(self, modelo, cor, ano):\n",
        "    self.modelo = modelo\n",
        "    self.cor = cor\n",
        "    self.ano = ano\n",
        "\n",
        "carro1 = Carro('Jeep Renegade', 'Cinza',2018)\n",
        "\n",
        "# 2 Crie uma classe chamada Restaurante com os atributos nome, categoria,\n",
        "# ativo e crie mais 2 atributos. Instancie um restaurante e atribua valores\n",
        "# aos seus atributos.\n",
        "# 3 Modifique a classe Restaurante adicionando um construtor que aceita nome e\n",
        "# categoria como parâmetros e inicia ativo como False por padrão. Crie uma\n",
        "# instância utilizando o construtor.\n",
        "# 4 Adicione um método especial __str__ à classe Restaurante para que, ao\n",
        "# imprimir uma instância, seja exibida uma mensagem formatada com o nome e\n",
        "# a categoria. Exiba essa mensagem para uma instância de restaurante.\n",
        "class Restaurante:\n",
        "  def __init__(self, nome ='', categoria = '', ativo = False, endereco = '', telefone = ''):\n",
        "    self.nome = nome\n",
        "    self.categoria = categoria\n",
        "    self.ativo = ativo\n",
        "    self.endereco = endereco\n",
        "    self.telefone = telefone\n",
        "\n",
        "  def __str__(self):\n",
        "    return f'Restaurante: {self.nome} - Categoria: {self.categoria}'\n",
        "\n",
        "restaurante1 = Restaurante('JBurgue', 'Hamburgueria', False, 'Rua Alexandrino', '11987654456')\n",
        "print(restaurante1)\n",
        "\n",
        "# 5 Crie uma classe chamada Cliente e pense em 4 atributos. Em seguida,\n",
        "# instancie 3 objetos desta classe e atribua valores aos seus atributos\n",
        "# através de um método construtor.\n",
        "\n",
        "class Cliente:\n",
        "  def __init__(self, nome = '', endereco = '', telefone = '', pedido = ''):\n",
        "    self.nome = nome\n",
        "    self.endereco = endereco\n",
        "    self.telefone = telefone\n",
        "    self.pedido = pedido\n",
        "\n",
        "cliente1 = Cliente(\"Abraão\", 'Rua Ur', '11987656765', '001')\n",
        "cliente1 = Cliente(\"Isaque\", 'Rua canaã', '11987656769', '022')\n",
        "cliente1 = Cliente(\"Jacó\", 'Rua Israel', '11987656765', '001')\n",
        "\n",
        "# Crie uma nova classe chamada Pessoa com atributos como nome, idade\n",
        "# e profissão. Adicione um método especial __str__ para imprimir uma\n",
        "# representação em string da pessoa. Implemente também um método de\n",
        "# instância chamado aniversario que aumenta a idade da pessoa em um ano.\n",
        "# Por fim, adicione uma propriedade chamada saudacao que retorna uma mensagem\n",
        "# de saudação personalizada com base na profissão da pessoa.\n",
        "\n",
        "class Pessoa:\n",
        "  def __init__(self, nome = \"\", idade = 0, profissao = ''):\n",
        "    self._nome = nome\n",
        "    self._idade = idade\n",
        "    self._profissao = profissao\n",
        "\n",
        "  def aniversario(self):\n",
        "    self._idade += 1\n",
        "\n",
        "  @property\n",
        "  def saudacao(self):\n",
        "    if self._profissao:\n",
        "      return f'Olá, meu nome é {self._nome}, eu sou {self._profissao}'\n",
        "    else:\n",
        "      return f'Olá,meu nome é {self._nome}'\n",
        "\n",
        "  def __str__(self):\n",
        "    return f'{self._nome}, {self._idade} anos, {self._profissao}'\n",
        "\n",
        "# Criando 3 instâncias da classe Pessoa\n",
        "pessoa1 = Pessoa('Jefferson',32,\"Desenvolvedor\")\n",
        "pessoa2 = Pessoa('Ariane', 22, 'Professora')\n",
        "pessoa3 = Pessoa('Ariele', 5)\n",
        "\n",
        "# Imprimindo informações iniciais\n",
        "print(pessoa1)\n",
        "print(pessoa2)\n",
        "print(pessoa3)\n",
        "print()\n",
        "\n",
        "# Utilizando o método de instância aniversario para aumentar a idade de uma pessoa\n",
        "pessoa2.aniversario()\n",
        "pessoa3.aniversario()\n",
        "\n",
        "# Imprimindo informações após aniversário\n",
        "print('Informações após aniversário:')\n",
        "print(pessoa1)\n",
        "print(pessoa2)\n",
        "print(pessoa3)\n",
        "print()\n",
        "\n",
        "# Utilizando o método de classe saudacao para exibir mensagens personalizadas\n",
        "\n",
        "print(pessoa1.saudacao)\n",
        "print(pessoa2.saudacao)\n",
        "print(pessoa3.saudacao)"
      ]
    }
  ]
}