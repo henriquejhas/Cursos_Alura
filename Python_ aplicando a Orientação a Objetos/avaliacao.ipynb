{
  "nbformat": 4,
  "nbformat_minor": 0,
  "metadata": {
    "colab": {
      "provenance": [],
      "authorship_tag": "ABX9TyM3tc1wWXFdDFM0tyHwqLBM",
      "include_colab_link": true
    },
    "kernelspec": {
      "name": "python3",
      "display_name": "Python 3"
    },
    "language_info": {
      "name": "python"
    }
  },
  "cells": [
    {
      "cell_type": "markdown",
      "metadata": {
        "id": "view-in-github",
        "colab_type": "text"
      },
      "source": [
        "<a href=\"https://colab.research.google.com/github/henriquejhas/Cursos_Alura/blob/main/Python%3A%20aplicando%20a%20Orienta%C3%A7%C3%A3o%20a%20Objetos/avaliacao.ipynb\" target=\"_parent\"><img src=\"https://colab.research.google.com/assets/colab-badge.svg\" alt=\"Open In Colab\"/></a>"
      ]
    },
    {
      "cell_type": "code",
      "execution_count": null,
      "metadata": {
        "id": "KHgeRs9d2diG"
      },
      "outputs": [],
      "source": [
        "class Avaliacao:\n",
        "    def __init__(self, cliente, nota):\n",
        "        self._cliente = cliente\n",
        "        self._nota = nota"
      ]
    }
  ]
}