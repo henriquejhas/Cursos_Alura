{
  "nbformat": 4,
  "nbformat_minor": 0,
  "metadata": {
    "colab": {
      "provenance": [],
      "authorship_tag": "ABX9TyM9so5bF5DGU9IgTBPyh4Jh",
      "include_colab_link": true
    },
    "kernelspec": {
      "name": "python3",
      "display_name": "Python 3"
    },
    "language_info": {
      "name": "python"
    }
  },
  "cells": [
    {
      "cell_type": "markdown",
      "metadata": {
        "id": "view-in-github",
        "colab_type": "text"
      },
      "source": [
        "<a href=\"https://colab.research.google.com/github/henriquejhas/Cursos_Alura/blob/main/Python%3A%20crie%20a%20sua%20primeira%20aplica%C3%A7%C3%A3o/dicionario.ipynb\" target=\"_parent\"><img src=\"https://colab.research.google.com/assets/colab-badge.svg\" alt=\"Open In Colab\"/></a>"
      ]
    },
    {
      "cell_type": "code",
      "execution_count": 14,
      "metadata": {
        "colab": {
          "base_uri": "https://localhost:8080/",
          "height": 226
        },
        "id": "XH4i7ds4ha9o",
        "outputId": "5f0e4b08-b4f9-428f-e9c5-a2f3b7e7bf11"
      },
      "outputs": [
        {
          "output_type": "stream",
          "name": "stdout",
          "text": [
            "{'nome': 'Ariane', 'idade': '22', 'cidade': 'Acaraú'}\n",
            "\n",
            "{'nome': 'Ariane', 'cidade': 'Delmiro', 'profissão': 'Estudante'}\n",
            "\n",
            "{'1': 1, '2': 4, '3': 9, '4': 16, '5': 25}\n",
            "\n",
            "A chave Cores existe nesse dicionário!\n",
            "\n",
            "{'O': 1, 'sabiá': 2, 'não': 2, 'sabia': 3, 'que': 2, 'o': 2, 'sábio': 1, 'assobiar': 1}\n",
            "\n"
          ]
        },
        {
          "output_type": "execute_result",
          "data": {
            "text/plain": [
              "'\\nfrase = \"Python se tornou uma das linguagens de programação mais populares do mundo nos últimos anos.\"\\ncontagem_palavras = {}\\npalavras = frase.split()\\nfor palavra in palavras:\\n    contagem_palavras[palavra] = contagem_palavras.get(palavra, 0) + 1\\nprint(contagem_palavras)\\n'"
            ],
            "application/vnd.google.colaboratory.intrinsic+json": {
              "type": "string"
            }
          },
          "metadata": {},
          "execution_count": 14
        }
      ],
      "source": [
        "#1 - Crie um dicionário representando informações sobre uma pessoa, como nome, idade e cidade.\n",
        "pessoa = {'nome':'Ariane','idade':'22','cidade':'Acaraú'}\n",
        "print(pessoa)\n",
        "print()\n",
        "\"\"\"\n",
        "pessoa = {'nome': 'Felipe', 'idade': 30, 'cidade': 'São Paulo'}\n",
        "\"\"\"\n",
        "\n",
        "#2 - Utilizando o dicionário criado no item 1:\n",
        "pessoa['cidade'] = \"Delmiro\"      #Modifique o valor de um dos itens no dicionário\n",
        "pessoa['profissão'] = \"Estudante\"    #Adicione um campo de profissão para essa pessoa;\n",
        "del pessoa['idade']     #Remova um item do dicionário.\n",
        "print(pessoa)\n",
        "print()\n",
        "\n",
        "\"\"\"\n",
        "# Atualização de Idade\n",
        "pessoa['idade'] = 31\n",
        "\n",
        "# Adicionando Profissão\n",
        "pessoa['profissao'] = 'Engenheiro'\n",
        "\n",
        "# Remoção de Elemento\n",
        "del pessoa['cidade']\n",
        "\"\"\"\n",
        "\n",
        "# 3 - Crie um dicionário utilizando para representar números e seus quadrados de 1 a 5.\n",
        "numero_quadrado = {}\n",
        "for x in range(1,6):\n",
        "  numero_quadrado[f'{x}'] = x * x\n",
        "print(numero_quadrado)\n",
        "print()\n",
        "\n",
        "\"\"\"\n",
        "numeros_quadrados = {x: x**2 for x in range(1, 6)}\n",
        "print(numeros_quadrados)\n",
        "\"\"\"\n",
        "\n",
        "# 4 - Crie um dicionário e verifique se uma chave específica existe dentro desse dicionário.\n",
        "gato = {'nome':'Trovão','Raça':'Siamês','Cores':'preto, creme, bege, marrom'}\n",
        "if 'Cores' in gato:\n",
        "  print('A chave Cores existe nesse dicionário!')\n",
        "else:\n",
        "  print('A chave Cores não existe nesse dicionário!')\n",
        "print()\n",
        "\n",
        "\"\"\"\n",
        "pessoa = {'nome': ‘Amanda', 'idade': 19, 'cidade': 'São Luís'}\n",
        "if 'nome' in pessoa:\n",
        "    print(\"A chave 'nome' existe no dicionário.\")\n",
        "else:\n",
        "    print(\"A chave 'nome' não existe no dicionário.\")\n",
        "\"\"\"\n",
        "\n",
        "# 5 - Escreva um código que conte a frequência de cada palavra em uma frase utilizando um dicionário.\n",
        "frase = 'O sabiá não sabia que o sábio sabia que o sabiá não sabia assobiar'.split()\n",
        "palavras = {}\n",
        "for palavra in frase:\n",
        "  if palavra not in palavras:\n",
        "    palavras[palavra] = 1\n",
        "  else:\n",
        "    palavras[palavra] = palavras[palavra] + 1\n",
        "print(palavras)\n",
        "print()\n",
        "\n",
        "\"\"\"\n",
        "frase = \"Python se tornou uma das linguagens de programação mais populares do mundo nos últimos anos.\"\n",
        "contagem_palavras = {}\n",
        "palavras = frase.split()\n",
        "for palavra in palavras:\n",
        "    contagem_palavras[palavra] = contagem_palavras.get(palavra, 0) + 1\n",
        "print(contagem_palavras)\n",
        "\"\"\"\n"
      ]
    }
  ]
}