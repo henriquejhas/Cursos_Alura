{
  "nbformat": 4,
  "nbformat_minor": 0,
  "metadata": {
    "colab": {
      "provenance": [],
      "authorship_tag": "ABX9TyMSE1u+lTRGQo3lyHu2w71X",
      "include_colab_link": true
    },
    "kernelspec": {
      "name": "python3",
      "display_name": "Python 3"
    },
    "language_info": {
      "name": "python"
    }
  },
  "cells": [
    {
      "cell_type": "markdown",
      "metadata": {
        "id": "view-in-github",
        "colab_type": "text"
      },
      "source": [
        "<a href=\"https://colab.research.google.com/github/henriquejhas/Cursos_Alura/blob/main/Python%20Collections%20parte%201%20listas%20e%20tuplas/introducao_collections.ipynb\" target=\"_parent\"><img src=\"https://colab.research.google.com/assets/colab-badge.svg\" alt=\"Open In Colab\"/></a>"
      ]
    },
    {
      "cell_type": "code",
      "execution_count": null,
      "metadata": {
        "colab": {
          "base_uri": "https://localhost:8080/"
        },
        "id": "9iLGw3l1lPHh",
        "outputId": "105dfa7b-04b2-458e-c9f8-4ac27ec30180"
      },
      "outputs": [
        {
          "output_type": "stream",
          "name": "stdout",
          "text": [
            "39\n",
            "30\n",
            "27\n",
            "18\n"
          ]
        }
      ],
      "source": [
        "idade1 = 39\n",
        "idade2 = 30\n",
        "idade3 = 27\n",
        "idade4 = 18\n",
        "\n",
        "print(idade1)\n",
        "print(idade2)\n",
        "print(idade3)\n",
        "print(idade4)"
      ]
    },
    {
      "cell_type": "code",
      "source": [
        "idades = [39, 30, 27,18]"
      ],
      "metadata": {
        "id": "IFqyQgfvmOh_"
      },
      "execution_count": null,
      "outputs": []
    },
    {
      "cell_type": "code",
      "source": [
        "type(idades)"
      ],
      "metadata": {
        "colab": {
          "base_uri": "https://localhost:8080/"
        },
        "id": "5d8o5nFyme9u",
        "outputId": "e9e3638a-bd4e-4919-9f2c-a04704569a0a"
      },
      "execution_count": null,
      "outputs": [
        {
          "output_type": "execute_result",
          "data": {
            "text/plain": [
              "list"
            ]
          },
          "metadata": {},
          "execution_count": 33
        }
      ]
    },
    {
      "cell_type": "code",
      "source": [
        "len(idades)"
      ],
      "metadata": {
        "colab": {
          "base_uri": "https://localhost:8080/"
        },
        "id": "aRMCpm9Nmlo4",
        "outputId": "0c6041e8-16be-4105-93be-c862c22c2449"
      },
      "execution_count": null,
      "outputs": [
        {
          "output_type": "execute_result",
          "data": {
            "text/plain": [
              "4"
            ]
          },
          "metadata": {},
          "execution_count": 34
        }
      ]
    },
    {
      "cell_type": "code",
      "source": [
        "idades[0]"
      ],
      "metadata": {
        "colab": {
          "base_uri": "https://localhost:8080/"
        },
        "id": "0WonKPRmmygI",
        "outputId": "b3cf1c5c-85b0-4b5b-f665-8d39709d94d4"
      },
      "execution_count": null,
      "outputs": [
        {
          "output_type": "execute_result",
          "data": {
            "text/plain": [
              "39"
            ]
          },
          "metadata": {},
          "execution_count": 35
        }
      ]
    },
    {
      "cell_type": "code",
      "source": [
        "idades"
      ],
      "metadata": {
        "colab": {
          "base_uri": "https://localhost:8080/"
        },
        "id": "P8klVjaPm3ps",
        "outputId": "6a9ef23a-d8c2-40d8-adab-c6c61092205f"
      },
      "execution_count": null,
      "outputs": [
        {
          "output_type": "execute_result",
          "data": {
            "text/plain": [
              "[39, 30, 27, 18]"
            ]
          },
          "metadata": {},
          "execution_count": 36
        }
      ]
    },
    {
      "cell_type": "code",
      "source": [
        "print(idades[1])\n",
        "print(idades[2])\n",
        "print(idades[3])"
      ],
      "metadata": {
        "colab": {
          "base_uri": "https://localhost:8080/"
        },
        "id": "tl1FPy6sm60c",
        "outputId": "3851f64a-cb61-4fec-8638-43b1a059ee8e"
      },
      "execution_count": null,
      "outputs": [
        {
          "output_type": "stream",
          "name": "stdout",
          "text": [
            "30\n",
            "27\n",
            "18\n"
          ]
        }
      ]
    },
    {
      "cell_type": "code",
      "source": [
        "idades.append(15)"
      ],
      "metadata": {
        "id": "A70KPZ0EnGLP"
      },
      "execution_count": null,
      "outputs": []
    },
    {
      "cell_type": "code",
      "source": [
        "idades"
      ],
      "metadata": {
        "colab": {
          "base_uri": "https://localhost:8080/"
        },
        "id": "Wr7dIoVQnaaU",
        "outputId": "df9ef773-0ee9-4e34-cac4-5504428588a5"
      },
      "execution_count": null,
      "outputs": [
        {
          "output_type": "execute_result",
          "data": {
            "text/plain": [
              "[39, 30, 27, 18, 15]"
            ]
          },
          "metadata": {},
          "execution_count": 39
        }
      ]
    },
    {
      "cell_type": "code",
      "source": [
        "idades[4]"
      ],
      "metadata": {
        "colab": {
          "base_uri": "https://localhost:8080/"
        },
        "id": "AgmIKhERnemM",
        "outputId": "864e0c60-5104-4802-e75a-ef3b8c3f0d6c"
      },
      "execution_count": null,
      "outputs": [
        {
          "output_type": "execute_result",
          "data": {
            "text/plain": [
              "15"
            ]
          },
          "metadata": {},
          "execution_count": 40
        }
      ]
    },
    {
      "cell_type": "code",
      "source": [
        "idades[5]"
      ],
      "metadata": {
        "colab": {
          "base_uri": "https://localhost:8080/",
          "height": 141
        },
        "id": "__aUZeksnnIH",
        "outputId": "4deddaee-6989-429b-9b0c-3ca659c60d96"
      },
      "execution_count": null,
      "outputs": [
        {
          "output_type": "error",
          "ename": "IndexError",
          "evalue": "list index out of range",
          "traceback": [
            "\u001b[0;31m---------------------------------------------------------------------------\u001b[0m",
            "\u001b[0;31mIndexError\u001b[0m                                Traceback (most recent call last)",
            "\u001b[0;32m<ipython-input-41-9afc071113c0>\u001b[0m in \u001b[0;36m<cell line: 1>\u001b[0;34m()\u001b[0m\n\u001b[0;32m----> 1\u001b[0;31m \u001b[0midades\u001b[0m\u001b[0;34m[\u001b[0m\u001b[0;36m5\u001b[0m\u001b[0;34m]\u001b[0m\u001b[0;34m\u001b[0m\u001b[0;34m\u001b[0m\u001b[0m\n\u001b[0m",
            "\u001b[0;31mIndexError\u001b[0m: list index out of range"
          ]
        }
      ]
    },
    {
      "cell_type": "code",
      "source": [
        "for idade in idades:\n",
        "  print(idade)"
      ],
      "metadata": {
        "colab": {
          "base_uri": "https://localhost:8080/"
        },
        "id": "2mgEvx-xn2R2",
        "outputId": "405f104b-ab11-4c0f-cd26-2b3fbd12cf6c"
      },
      "execution_count": null,
      "outputs": [
        {
          "output_type": "stream",
          "name": "stdout",
          "text": [
            "39\n",
            "30\n",
            "27\n",
            "18\n",
            "15\n"
          ]
        }
      ]
    },
    {
      "cell_type": "code",
      "source": [
        "idades.remove(30)"
      ],
      "metadata": {
        "id": "1Vy7l1IpoIZL"
      },
      "execution_count": null,
      "outputs": []
    },
    {
      "cell_type": "code",
      "source": [
        "idades"
      ],
      "metadata": {
        "colab": {
          "base_uri": "https://localhost:8080/"
        },
        "id": "F8FgontLoZLD",
        "outputId": "0a2e9c77-61bf-4a6a-cbfd-b0a512aeb791"
      },
      "execution_count": null,
      "outputs": [
        {
          "output_type": "execute_result",
          "data": {
            "text/plain": [
              "[39, 27, 18, 15]"
            ]
          },
          "metadata": {},
          "execution_count": 44
        }
      ]
    },
    {
      "cell_type": "code",
      "source": [
        "idades.remove(30)"
      ],
      "metadata": {
        "colab": {
          "base_uri": "https://localhost:8080/",
          "height": 141
        },
        "id": "lgJAfLYmojQ-",
        "outputId": "1dc9d211-f9d6-4f9d-f7f7-ca5548774395"
      },
      "execution_count": null,
      "outputs": [
        {
          "output_type": "error",
          "ename": "ValueError",
          "evalue": "list.remove(x): x not in list",
          "traceback": [
            "\u001b[0;31m---------------------------------------------------------------------------\u001b[0m",
            "\u001b[0;31mValueError\u001b[0m                                Traceback (most recent call last)",
            "\u001b[0;32m<ipython-input-45-4f77f6ee3785>\u001b[0m in \u001b[0;36m<cell line: 1>\u001b[0;34m()\u001b[0m\n\u001b[0;32m----> 1\u001b[0;31m \u001b[0midades\u001b[0m\u001b[0;34m.\u001b[0m\u001b[0mremove\u001b[0m\u001b[0;34m(\u001b[0m\u001b[0;36m30\u001b[0m\u001b[0;34m)\u001b[0m\u001b[0;34m\u001b[0m\u001b[0;34m\u001b[0m\u001b[0m\n\u001b[0m",
            "\u001b[0;31mValueError\u001b[0m: list.remove(x): x not in list"
          ]
        }
      ]
    },
    {
      "cell_type": "code",
      "source": [
        "idades.append(15)"
      ],
      "metadata": {
        "id": "VlACvTAjov8J"
      },
      "execution_count": null,
      "outputs": []
    },
    {
      "cell_type": "code",
      "source": [
        "idades"
      ],
      "metadata": {
        "colab": {
          "base_uri": "https://localhost:8080/"
        },
        "id": "tJxgO_p-o1SS",
        "outputId": "a7f539d1-9d71-4bee-e724-a9127e3764e9"
      },
      "execution_count": null,
      "outputs": [
        {
          "output_type": "execute_result",
          "data": {
            "text/plain": [
              "[39, 27, 18, 15, 15]"
            ]
          },
          "metadata": {},
          "execution_count": 47
        }
      ]
    },
    {
      "cell_type": "code",
      "source": [
        "idades.remove(15)"
      ],
      "metadata": {
        "id": "6UsrAb5Jo6CL"
      },
      "execution_count": null,
      "outputs": []
    },
    {
      "cell_type": "code",
      "source": [
        "idades"
      ],
      "metadata": {
        "colab": {
          "base_uri": "https://localhost:8080/"
        },
        "id": "5Cu9PVM9o9UM",
        "outputId": "3c78142c-6aea-44de-fd19-23545870bfe5"
      },
      "execution_count": null,
      "outputs": [
        {
          "output_type": "execute_result",
          "data": {
            "text/plain": [
              "[39, 27, 18, 15]"
            ]
          },
          "metadata": {},
          "execution_count": 49
        }
      ]
    },
    {
      "cell_type": "code",
      "source": [
        "idades.append(27)\n",
        "idades.remove(27)\n",
        "idades"
      ],
      "metadata": {
        "colab": {
          "base_uri": "https://localhost:8080/"
        },
        "id": "Mwb7wPnspBUl",
        "outputId": "e77023e3-ae9b-4684-b9cb-f3f0f91e5122"
      },
      "execution_count": null,
      "outputs": [
        {
          "output_type": "execute_result",
          "data": {
            "text/plain": [
              "[39, 18, 15, 27]"
            ]
          },
          "metadata": {},
          "execution_count": 50
        }
      ]
    },
    {
      "cell_type": "code",
      "source": [
        "28 in idades"
      ],
      "metadata": {
        "colab": {
          "base_uri": "https://localhost:8080/"
        },
        "id": "g_c2Ja-ippsh",
        "outputId": "e9dc4460-e70e-4e3c-db3d-491863db9753"
      },
      "execution_count": null,
      "outputs": [
        {
          "output_type": "execute_result",
          "data": {
            "text/plain": [
              "False"
            ]
          },
          "metadata": {},
          "execution_count": 51
        }
      ]
    },
    {
      "cell_type": "code",
      "source": [
        "15 in idades"
      ],
      "metadata": {
        "colab": {
          "base_uri": "https://localhost:8080/"
        },
        "id": "mlmdmdZ8ptsO",
        "outputId": "de2f0629-50c2-428f-ccf6-49e85918354c"
      },
      "execution_count": null,
      "outputs": [
        {
          "output_type": "execute_result",
          "data": {
            "text/plain": [
              "True"
            ]
          },
          "metadata": {},
          "execution_count": 52
        }
      ]
    },
    {
      "cell_type": "code",
      "source": [
        "if 15 in idades:\n",
        "  idades.remove(15)"
      ],
      "metadata": {
        "id": "rWNztMI8p09H"
      },
      "execution_count": null,
      "outputs": []
    },
    {
      "cell_type": "code",
      "source": [
        "idades"
      ],
      "metadata": {
        "colab": {
          "base_uri": "https://localhost:8080/"
        },
        "id": "48WYjZ4Gp8sE",
        "outputId": "b23d30e4-9c51-4c61-9b7c-2426a8d187d2"
      },
      "execution_count": null,
      "outputs": [
        {
          "output_type": "execute_result",
          "data": {
            "text/plain": [
              "[39, 18, 27]"
            ]
          },
          "metadata": {},
          "execution_count": 54
        }
      ]
    },
    {
      "cell_type": "code",
      "source": [
        "if 28 in idades:\n",
        "  idades.remove(28)"
      ],
      "metadata": {
        "id": "LqoGYqk4p_O8"
      },
      "execution_count": null,
      "outputs": []
    },
    {
      "cell_type": "code",
      "source": [
        "idades"
      ],
      "metadata": {
        "colab": {
          "base_uri": "https://localhost:8080/"
        },
        "id": "jL2FYcU7qHab",
        "outputId": "3c8ddedc-ab48-4925-cf20-38b4a6d32d55"
      },
      "execution_count": null,
      "outputs": [
        {
          "output_type": "execute_result",
          "data": {
            "text/plain": [
              "[39, 18, 27]"
            ]
          },
          "metadata": {},
          "execution_count": 56
        }
      ]
    },
    {
      "cell_type": "code",
      "source": [
        "idades.append(19)\n",
        "idades"
      ],
      "metadata": {
        "colab": {
          "base_uri": "https://localhost:8080/"
        },
        "id": "aAvajKdeqLLA",
        "outputId": "277238d7-71d8-49e2-db82-607b6d17fbe0"
      },
      "execution_count": null,
      "outputs": [
        {
          "output_type": "execute_result",
          "data": {
            "text/plain": [
              "[39, 18, 27, 19]"
            ]
          },
          "metadata": {},
          "execution_count": 57
        }
      ]
    },
    {
      "cell_type": "code",
      "source": [
        "idades.insert(0, 20)\n",
        "idades"
      ],
      "metadata": {
        "colab": {
          "base_uri": "https://localhost:8080/"
        },
        "id": "h1zlECkDqXI-",
        "outputId": "5f55c665-d199-422c-db63-fddfcae1c18c"
      },
      "execution_count": null,
      "outputs": [
        {
          "output_type": "execute_result",
          "data": {
            "text/plain": [
              "[20, 39, 18, 27, 19]"
            ]
          },
          "metadata": {},
          "execution_count": 58
        }
      ]
    },
    {
      "cell_type": "code",
      "source": [
        "idades = [20, 39, 28]\n",
        "idades"
      ],
      "metadata": {
        "colab": {
          "base_uri": "https://localhost:8080/"
        },
        "id": "OZpGtiZFqdsY",
        "outputId": "20011a6b-268a-4166-f2e5-a32d6226e7ee"
      },
      "execution_count": null,
      "outputs": [
        {
          "output_type": "execute_result",
          "data": {
            "text/plain": [
              "[20, 39, 28]"
            ]
          },
          "metadata": {},
          "execution_count": 70
        }
      ]
    },
    {
      "cell_type": "code",
      "source": [
        "idades.append([17, 19])"
      ],
      "metadata": {
        "id": "AcwPxMCDquMe"
      },
      "execution_count": null,
      "outputs": []
    },
    {
      "cell_type": "code",
      "source": [
        "idades"
      ],
      "metadata": {
        "colab": {
          "base_uri": "https://localhost:8080/"
        },
        "id": "TZBFrikpq7he",
        "outputId": "54738827-a9f5-4786-c542-5105ac3d754d"
      },
      "execution_count": null,
      "outputs": [
        {
          "output_type": "execute_result",
          "data": {
            "text/plain": [
              "[20, 39, 28, [17, 19]]"
            ]
          },
          "metadata": {},
          "execution_count": 72
        }
      ]
    },
    {
      "cell_type": "code",
      "source": [
        "for elemento in idades:\n",
        "  print('Recebi o elemento', elemento)"
      ],
      "metadata": {
        "colab": {
          "base_uri": "https://localhost:8080/"
        },
        "id": "GmDhSIlirCGQ",
        "outputId": "840a5298-5235-4c43-b5b4-64e6db797e04"
      },
      "execution_count": null,
      "outputs": [
        {
          "output_type": "stream",
          "name": "stdout",
          "text": [
            "Recebi o elemento 20\n",
            "Recebi o elemento 39\n",
            "Recebi o elemento 28\n",
            "Recebi o elemento [17, 19]\n"
          ]
        }
      ]
    },
    {
      "cell_type": "code",
      "source": [
        "idades = [20, 39, 18]\n",
        "idades.extend([27, 19])\n",
        "idades"
      ],
      "metadata": {
        "colab": {
          "base_uri": "https://localhost:8080/"
        },
        "id": "oENsA3lcrYMm",
        "outputId": "4afac3e2-0241-4ae8-d689-f1f40f71ed5b"
      },
      "execution_count": null,
      "outputs": [
        {
          "output_type": "execute_result",
          "data": {
            "text/plain": [
              "[20, 39, 18, 27, 19]"
            ]
          },
          "metadata": {},
          "execution_count": 81
        }
      ]
    },
    {
      "cell_type": "code",
      "source": [
        "for idade in idades:\n",
        "  print(idade + 1)"
      ],
      "metadata": {
        "colab": {
          "base_uri": "https://localhost:8080/"
        },
        "id": "L15ZDzMNrx3m",
        "outputId": "8720cbca-fae7-46d1-c240-d84ef5280092"
      },
      "execution_count": null,
      "outputs": [
        {
          "output_type": "stream",
          "name": "stdout",
          "text": [
            "21\n",
            "40\n",
            "19\n",
            "28\n",
            "20\n"
          ]
        }
      ]
    },
    {
      "cell_type": "code",
      "source": [
        "idades_no_ano_que_vem = []\n",
        "for idade in idades:\n",
        "  idades_no_ano_que_vem.append(idade + 1)\n",
        "idades_no_ano_que_vem"
      ],
      "metadata": {
        "colab": {
          "base_uri": "https://localhost:8080/"
        },
        "id": "CvrxIITGsCGL",
        "outputId": "e3206f8b-bf65-470a-e568-9c00231d7f13"
      },
      "execution_count": null,
      "outputs": [
        {
          "output_type": "execute_result",
          "data": {
            "text/plain": [
              "[21, 40, 19, 28, 20]"
            ]
          },
          "metadata": {},
          "execution_count": 83
        }
      ]
    },
    {
      "cell_type": "code",
      "source": [
        "idades_no_ano_que_vem = [(idade + 1) for idade in idades]\n",
        "idades_no_ano_que_vem"
      ],
      "metadata": {
        "colab": {
          "base_uri": "https://localhost:8080/"
        },
        "id": "BnKT2n4isToj",
        "outputId": "deb69ae2-b22a-4a75-d8a5-808b28a018c5"
      },
      "execution_count": null,
      "outputs": [
        {
          "output_type": "execute_result",
          "data": {
            "text/plain": [
              "[21, 40, 19, 28, 20]"
            ]
          },
          "metadata": {},
          "execution_count": 84
        }
      ]
    },
    {
      "cell_type": "code",
      "source": [
        "[(idade) for idade in idades if idade > 21]"
      ],
      "metadata": {
        "colab": {
          "base_uri": "https://localhost:8080/"
        },
        "id": "tjfOdnO3tJ-K",
        "outputId": "a77c9a0b-c2ca-4d5a-aeb4-688f6628d14e"
      },
      "execution_count": null,
      "outputs": [
        {
          "output_type": "execute_result",
          "data": {
            "text/plain": [
              "[39, 27]"
            ]
          },
          "metadata": {},
          "execution_count": 85
        }
      ]
    },
    {
      "cell_type": "code",
      "source": [
        "idades"
      ],
      "metadata": {
        "colab": {
          "base_uri": "https://localhost:8080/"
        },
        "id": "HK3G4uIMuLgn",
        "outputId": "7aaf85a5-13b5-462b-e5cf-0de6091d7606"
      },
      "execution_count": null,
      "outputs": [
        {
          "output_type": "execute_result",
          "data": {
            "text/plain": [
              "[20, 39, 18, 27, 19]"
            ]
          },
          "metadata": {},
          "execution_count": 86
        }
      ]
    },
    {
      "cell_type": "code",
      "source": [
        "def proximo_ano(idade):\n",
        "  return idade + 1\n",
        "[proximo_ano(idade) for idade in idades if idade > 21]"
      ],
      "metadata": {
        "colab": {
          "base_uri": "https://localhost:8080/"
        },
        "id": "b-TmojwCupv5",
        "outputId": "e376fc6d-a279-4c2b-c704-38348f1bc945"
      },
      "execution_count": null,
      "outputs": [
        {
          "output_type": "execute_result",
          "data": {
            "text/plain": [
              "[40, 28]"
            ]
          },
          "metadata": {},
          "execution_count": 87
        }
      ]
    },
    {
      "cell_type": "code",
      "source": [
        "def faz_processamento_de_visualizacao(lista):\n",
        "  print(len(lista))\n",
        "  lista.append(13)"
      ],
      "metadata": {
        "id": "YR04EjF8vQMP"
      },
      "execution_count": null,
      "outputs": []
    },
    {
      "cell_type": "code",
      "source": [
        "idades = [16, 21, 29, 56, 43]\n",
        "faz_processamento_de_visualizacao(idades)\n",
        "idades"
      ],
      "metadata": {
        "colab": {
          "base_uri": "https://localhost:8080/"
        },
        "id": "xMXuPKz-vb-1",
        "outputId": "cfb3b562-b9f0-4885-cd60-d89589c1d357"
      },
      "execution_count": null,
      "outputs": [
        {
          "output_type": "stream",
          "name": "stdout",
          "text": [
            "5\n"
          ]
        },
        {
          "output_type": "execute_result",
          "data": {
            "text/plain": [
              "[16, 21, 29, 56, 43, 13]"
            ]
          },
          "metadata": {},
          "execution_count": 91
        }
      ]
    },
    {
      "cell_type": "code",
      "source": [
        "def faz_processamento_de_visualizacao(lista = []):\n",
        "  print(len(lista))\n",
        "  lista.append(13)"
      ],
      "metadata": {
        "id": "KA9s4yGhvsuS"
      },
      "execution_count": null,
      "outputs": []
    },
    {
      "cell_type": "code",
      "source": [
        "faz_processamento_de_visualizacao()"
      ],
      "metadata": {
        "colab": {
          "base_uri": "https://localhost:8080/"
        },
        "id": "q-WsRdXhwmd0",
        "outputId": "320af72c-72cf-4d97-ad1c-7beb7725197d"
      },
      "execution_count": null,
      "outputs": [
        {
          "output_type": "stream",
          "name": "stdout",
          "text": [
            "0\n"
          ]
        }
      ]
    },
    {
      "cell_type": "code",
      "source": [
        "faz_processamento_de_visualizacao()"
      ],
      "metadata": {
        "colab": {
          "base_uri": "https://localhost:8080/"
        },
        "id": "bmEwST1iwvcS",
        "outputId": "89596d31-7cca-4e8a-ad3b-c371efe8f506"
      },
      "execution_count": null,
      "outputs": [
        {
          "output_type": "stream",
          "name": "stdout",
          "text": [
            "1\n"
          ]
        }
      ]
    },
    {
      "cell_type": "code",
      "source": [
        "faz_processamento_de_visualizacao()"
      ],
      "metadata": {
        "colab": {
          "base_uri": "https://localhost:8080/"
        },
        "id": "poR3qq-owz-7",
        "outputId": "a7f046cc-d234-4777-f8c8-996f924fba2a"
      },
      "execution_count": null,
      "outputs": [
        {
          "output_type": "stream",
          "name": "stdout",
          "text": [
            "2\n"
          ]
        }
      ]
    },
    {
      "cell_type": "code",
      "source": [
        "faz_processamento_de_visualizacao()"
      ],
      "metadata": {
        "colab": {
          "base_uri": "https://localhost:8080/"
        },
        "id": "61Sq29ASw1l7",
        "outputId": "90b7cad5-3b9f-4659-ab36-65f51c5fad5f"
      },
      "execution_count": null,
      "outputs": [
        {
          "output_type": "stream",
          "name": "stdout",
          "text": [
            "3\n"
          ]
        }
      ]
    },
    {
      "cell_type": "code",
      "source": [
        "def faz_processamento_de_visualizacao(lista = list()):\n",
        "  print(len(lista))\n",
        "  print(lista)\n",
        "  lista.append(13)"
      ],
      "metadata": {
        "id": "J6Ls3WeBy9LY"
      },
      "execution_count": null,
      "outputs": []
    },
    {
      "cell_type": "code",
      "source": [
        "faz_processamento_de_visualizacao()\n",
        "faz_processamento_de_visualizacao()"
      ],
      "metadata": {
        "colab": {
          "base_uri": "https://localhost:8080/"
        },
        "id": "RnIeUO3WzHTm",
        "outputId": "14661827-339e-4753-fc17-a780fef2748e"
      },
      "execution_count": null,
      "outputs": [
        {
          "output_type": "stream",
          "name": "stdout",
          "text": [
            "0\n",
            "[]\n",
            "1\n",
            "[13]\n"
          ]
        }
      ]
    },
    {
      "cell_type": "code",
      "source": [
        "def faz_processamento_de_visualizacao(lista = None):\n",
        "  if lista == None:\n",
        "    lista = []\n",
        "  print(len(lista))\n",
        "  print(lista)\n",
        "  lista.append(13)"
      ],
      "metadata": {
        "id": "CJjehLtNzYeA"
      },
      "execution_count": null,
      "outputs": []
    },
    {
      "cell_type": "code",
      "source": [
        "faz_processamento_de_visualizacao()\n",
        "faz_processamento_de_visualizacao()\n",
        "faz_processamento_de_visualizacao()\n",
        "faz_processamento_de_visualizacao()"
      ],
      "metadata": {
        "colab": {
          "base_uri": "https://localhost:8080/"
        },
        "id": "TFxiGZWXzpGa",
        "outputId": "d1a94a82-6cd3-4858-f570-e3fa27eb994d"
      },
      "execution_count": null,
      "outputs": [
        {
          "output_type": "stream",
          "name": "stdout",
          "text": [
            "0\n",
            "[]\n",
            "0\n",
            "[]\n",
            "0\n",
            "[]\n",
            "0\n",
            "[]\n"
          ]
        }
      ]
    },
    {
      "cell_type": "markdown",
      "source": [
        "**- Objetos próprios**"
      ],
      "metadata": {
        "id": "HX6IVoVw0udp"
      }
    },
    {
      "cell_type": "code",
      "source": [
        "class ContaCorrente:\n",
        "\n",
        "  def __init__(self, codigo):\n",
        "    self.codigo = codigo\n",
        "    self.saldo = 0\n",
        "\n",
        "  def deposita(self, valor):\n",
        "    self.saldo += valor\n",
        "\n",
        "  def __str__(self):\n",
        "    return '[>>Código {} Saldo {}<<]'.format(self.codigo, self.saldo)"
      ],
      "metadata": {
        "id": "6WyyA_i10pAH"
      },
      "execution_count": null,
      "outputs": []
    },
    {
      "cell_type": "code",
      "source": [
        "conta_do_gui = ContaCorrente(15)\n",
        "print(conta_do_gui)"
      ],
      "metadata": {
        "colab": {
          "base_uri": "https://localhost:8080/"
        },
        "id": "8p5eYJ_m1_OA",
        "outputId": "bb73308c-75da-42db-c78d-2d7095cf9e25"
      },
      "execution_count": null,
      "outputs": [
        {
          "output_type": "stream",
          "name": "stdout",
          "text": [
            "[>>Código 15 Saldo 0<<]\n"
          ]
        }
      ]
    },
    {
      "cell_type": "code",
      "source": [
        "conta_do_gui.deposita(500)\n",
        "print(conta_do_gui)"
      ],
      "metadata": {
        "colab": {
          "base_uri": "https://localhost:8080/"
        },
        "id": "6xpdp85Q2P4y",
        "outputId": "01216c55-e004-4bc4-a432-02ed0c5a9f00"
      },
      "execution_count": null,
      "outputs": [
        {
          "output_type": "stream",
          "name": "stdout",
          "text": [
            "[>>Código 15 Saldo 500<<]\n"
          ]
        }
      ]
    },
    {
      "cell_type": "code",
      "source": [
        "conta_da_dani = ContaCorrente(47685)\n",
        "conta_da_dani.deposita(1000)\n",
        "print(conta_da_dani)"
      ],
      "metadata": {
        "colab": {
          "base_uri": "https://localhost:8080/"
        },
        "id": "KjcJDyuA2YpK",
        "outputId": "a39aa05f-093e-49a0-b2cb-1f729e32b5a3"
      },
      "execution_count": null,
      "outputs": [
        {
          "output_type": "stream",
          "name": "stdout",
          "text": [
            "[>>Código 47685 Saldo 1000<<]\n"
          ]
        }
      ]
    },
    {
      "cell_type": "code",
      "source": [
        "contas = [conta_do_gui, conta_da_dani]\n",
        "for conta in contas:\n",
        "  print(conta)"
      ],
      "metadata": {
        "colab": {
          "base_uri": "https://localhost:8080/"
        },
        "id": "Ih_gmZUd2rlP",
        "outputId": "13721d68-d675-4b20-bec8-7c1dc388c714"
      },
      "execution_count": null,
      "outputs": [
        {
          "output_type": "stream",
          "name": "stdout",
          "text": [
            "[>>Código 15 Saldo 500<<]\n",
            "[>>Código 47685 Saldo 1000<<]\n"
          ]
        }
      ]
    },
    {
      "cell_type": "code",
      "source": [
        "contas = [conta_do_gui, conta_da_dani, conta_do_gui]"
      ],
      "metadata": {
        "id": "YwQW1ETL3jxY"
      },
      "execution_count": null,
      "outputs": []
    },
    {
      "cell_type": "code",
      "source": [
        "print(contas[0])"
      ],
      "metadata": {
        "colab": {
          "base_uri": "https://localhost:8080/"
        },
        "id": "h9PTnkFH3vku",
        "outputId": "f5cae83c-944f-4eab-ed66-bd23b0ee80bd"
      },
      "execution_count": null,
      "outputs": [
        {
          "output_type": "stream",
          "name": "stdout",
          "text": [
            "[>>Código 15 Saldo 500<<]\n"
          ]
        }
      ]
    },
    {
      "cell_type": "code",
      "source": [
        "conta_do_gui.deposita(100)"
      ],
      "metadata": {
        "id": "y-50skzj30a9"
      },
      "execution_count": null,
      "outputs": []
    },
    {
      "cell_type": "code",
      "source": [
        "print(contas[0])"
      ],
      "metadata": {
        "colab": {
          "base_uri": "https://localhost:8080/"
        },
        "id": "n7lboy2z38p6",
        "outputId": "8270b085-1d1b-4a8b-edaf-3f13ef561a13"
      },
      "execution_count": null,
      "outputs": [
        {
          "output_type": "stream",
          "name": "stdout",
          "text": [
            "[>>Código 15 Saldo 600<<]\n"
          ]
        }
      ]
    },
    {
      "cell_type": "code",
      "source": [
        "print(conta_do_gui)"
      ],
      "metadata": {
        "colab": {
          "base_uri": "https://localhost:8080/"
        },
        "id": "OLgaE3My4EPV",
        "outputId": "da5af9b6-502a-4862-b8d9-05022300771d"
      },
      "execution_count": null,
      "outputs": [
        {
          "output_type": "stream",
          "name": "stdout",
          "text": [
            "[>>Código 15 Saldo 600<<]\n"
          ]
        }
      ]
    },
    {
      "cell_type": "code",
      "source": [
        "print(contas[2])"
      ],
      "metadata": {
        "colab": {
          "base_uri": "https://localhost:8080/"
        },
        "id": "9EMsGgrO4Unz",
        "outputId": "d52749e4-5530-41db-b7e9-095e27cba2d8"
      },
      "execution_count": null,
      "outputs": [
        {
          "output_type": "stream",
          "name": "stdout",
          "text": [
            "[>>Código 15 Saldo 600<<]\n"
          ]
        }
      ]
    },
    {
      "cell_type": "code",
      "source": [
        "contas[2].deposita(300)"
      ],
      "metadata": {
        "id": "h6lPqlKL4iZ1"
      },
      "execution_count": null,
      "outputs": []
    },
    {
      "cell_type": "code",
      "source": [
        "print(conta_do_gui)"
      ],
      "metadata": {
        "colab": {
          "base_uri": "https://localhost:8080/"
        },
        "id": "RT5rFIF34rWc",
        "outputId": "4406d2b4-61ce-4979-b587-18353dd8f656"
      },
      "execution_count": null,
      "outputs": [
        {
          "output_type": "stream",
          "name": "stdout",
          "text": [
            "[>>Código 15 Saldo 900<<]\n"
          ]
        }
      ]
    },
    {
      "cell_type": "code",
      "source": [
        "def deposita_para_todas(contas):\n",
        "  for conta in contas:\n",
        "    conta.deposita(100)\n",
        "\n",
        "contas = [conta_do_gui, conta_da_dani]\n",
        "print(contas[0], contas[1])\n",
        "deposita_para_todas(contas)\n",
        "print(contas[0], contas[1])"
      ],
      "metadata": {
        "colab": {
          "base_uri": "https://localhost:8080/"
        },
        "id": "WHxcVmAp4w_5",
        "outputId": "10753708-2e4e-4185-ff33-9d15813c308f"
      },
      "execution_count": null,
      "outputs": [
        {
          "output_type": "stream",
          "name": "stdout",
          "text": [
            "[>>Código 15 Saldo 900<<] [>>Código 47685 Saldo 1000<<]\n",
            "[>>Código 15 Saldo 1000<<] [>>Código 47685 Saldo 1100<<]\n"
          ]
        }
      ]
    },
    {
      "cell_type": "code",
      "source": [
        "contas.insert(0, 76)\n",
        "print(contas[0], contas[1], contas[2])"
      ],
      "metadata": {
        "colab": {
          "base_uri": "https://localhost:8080/"
        },
        "id": "ESfIp-IU7x4d",
        "outputId": "984036c8-d583-43e2-b600-145629c0ce56"
      },
      "execution_count": null,
      "outputs": [
        {
          "output_type": "stream",
          "name": "stdout",
          "text": [
            "76 [>>Código 15 Saldo 1000<<] [>>Código 47685 Saldo 1100<<]\n"
          ]
        }
      ]
    },
    {
      "cell_type": "code",
      "source": [
        "deposita_para_todas(contas)\n",
        "print(contas[0], contas[1], contas[2])"
      ],
      "metadata": {
        "colab": {
          "base_uri": "https://localhost:8080/",
          "height": 280
        },
        "id": "Rjft0eSn8QT0",
        "outputId": "f8868bff-08d8-4725-9f5a-1611906ebe86"
      },
      "execution_count": null,
      "outputs": [
        {
          "output_type": "error",
          "ename": "AttributeError",
          "evalue": "'int' object has no attribute 'deposita'",
          "traceback": [
            "\u001b[0;31m---------------------------------------------------------------------------\u001b[0m",
            "\u001b[0;31mAttributeError\u001b[0m                            Traceback (most recent call last)",
            "\u001b[0;32m<ipython-input-121-92ac4487eece>\u001b[0m in \u001b[0;36m<cell line: 1>\u001b[0;34m()\u001b[0m\n\u001b[0;32m----> 1\u001b[0;31m \u001b[0mdeposita_para_todas\u001b[0m\u001b[0;34m(\u001b[0m\u001b[0mcontas\u001b[0m\u001b[0;34m)\u001b[0m\u001b[0;34m\u001b[0m\u001b[0;34m\u001b[0m\u001b[0m\n\u001b[0m\u001b[1;32m      2\u001b[0m \u001b[0mprint\u001b[0m\u001b[0;34m(\u001b[0m\u001b[0mcontas\u001b[0m\u001b[0;34m[\u001b[0m\u001b[0;36m0\u001b[0m\u001b[0;34m]\u001b[0m\u001b[0;34m,\u001b[0m \u001b[0mcontas\u001b[0m\u001b[0;34m[\u001b[0m\u001b[0;36m1\u001b[0m\u001b[0;34m]\u001b[0m\u001b[0;34m,\u001b[0m \u001b[0mcontas\u001b[0m\u001b[0;34m[\u001b[0m\u001b[0;36m2\u001b[0m\u001b[0;34m]\u001b[0m\u001b[0;34m)\u001b[0m\u001b[0;34m\u001b[0m\u001b[0;34m\u001b[0m\u001b[0m\n",
            "\u001b[0;32m<ipython-input-119-5c36215b3621>\u001b[0m in \u001b[0;36mdeposita_para_todas\u001b[0;34m(contas)\u001b[0m\n\u001b[1;32m      1\u001b[0m \u001b[0;32mdef\u001b[0m \u001b[0mdeposita_para_todas\u001b[0m\u001b[0;34m(\u001b[0m\u001b[0mcontas\u001b[0m\u001b[0;34m)\u001b[0m\u001b[0;34m:\u001b[0m\u001b[0;34m\u001b[0m\u001b[0;34m\u001b[0m\u001b[0m\n\u001b[1;32m      2\u001b[0m   \u001b[0;32mfor\u001b[0m \u001b[0mconta\u001b[0m \u001b[0;32min\u001b[0m \u001b[0mcontas\u001b[0m\u001b[0;34m:\u001b[0m\u001b[0;34m\u001b[0m\u001b[0;34m\u001b[0m\u001b[0m\n\u001b[0;32m----> 3\u001b[0;31m     \u001b[0mconta\u001b[0m\u001b[0;34m.\u001b[0m\u001b[0mdeposita\u001b[0m\u001b[0;34m(\u001b[0m\u001b[0;36m100\u001b[0m\u001b[0;34m)\u001b[0m\u001b[0;34m\u001b[0m\u001b[0;34m\u001b[0m\u001b[0m\n\u001b[0m\u001b[1;32m      4\u001b[0m \u001b[0;34m\u001b[0m\u001b[0m\n\u001b[1;32m      5\u001b[0m \u001b[0mcontas\u001b[0m \u001b[0;34m=\u001b[0m \u001b[0;34m[\u001b[0m\u001b[0mconta_do_gui\u001b[0m\u001b[0;34m,\u001b[0m \u001b[0mconta_da_dani\u001b[0m\u001b[0;34m]\u001b[0m\u001b[0;34m\u001b[0m\u001b[0;34m\u001b[0m\u001b[0m\n",
            "\u001b[0;31mAttributeError\u001b[0m: 'int' object has no attribute 'deposita'"
          ]
        }
      ]
    },
    {
      "cell_type": "code",
      "source": [
        "guilherme = ('Gulherme', 37, 1981) # tupla\n",
        "daniela = (\"Daniela\", 31, 1987)"
      ],
      "metadata": {
        "id": "v-jvqiXn9BSa"
      },
      "execution_count": null,
      "outputs": []
    },
    {
      "cell_type": "code",
      "source": [
        "conta_do_gui = (15, 1000)\n",
        "conta_do_gui[1]"
      ],
      "metadata": {
        "colab": {
          "base_uri": "https://localhost:8080/"
        },
        "id": "ZuIG4UFkAfuC",
        "outputId": "341bed5e-f684-4509-ebe4-a9a3e60bfc77"
      },
      "execution_count": null,
      "outputs": [
        {
          "output_type": "execute_result",
          "data": {
            "text/plain": [
              "1000"
            ]
          },
          "metadata": {},
          "execution_count": 122
        }
      ]
    },
    {
      "cell_type": "code",
      "source": [
        "conta_do_gui[1] += 100"
      ],
      "metadata": {
        "colab": {
          "base_uri": "https://localhost:8080/",
          "height": 141
        },
        "id": "7n6JbocmAuF5",
        "outputId": "db41fcf0-411b-449c-91a9-d5c66fa0efb3"
      },
      "execution_count": null,
      "outputs": [
        {
          "output_type": "error",
          "ename": "TypeError",
          "evalue": "'tuple' object does not support item assignment",
          "traceback": [
            "\u001b[0;31m---------------------------------------------------------------------------\u001b[0m",
            "\u001b[0;31mTypeError\u001b[0m                                 Traceback (most recent call last)",
            "\u001b[0;32m<ipython-input-123-b6479b2fecd6>\u001b[0m in \u001b[0;36m<cell line: 1>\u001b[0;34m()\u001b[0m\n\u001b[0;32m----> 1\u001b[0;31m \u001b[0mconta_do_gui\u001b[0m\u001b[0;34m[\u001b[0m\u001b[0;36m1\u001b[0m\u001b[0;34m]\u001b[0m \u001b[0;34m+=\u001b[0m \u001b[0;36m100\u001b[0m\u001b[0;34m\u001b[0m\u001b[0;34m\u001b[0m\u001b[0m\n\u001b[0m",
            "\u001b[0;31mTypeError\u001b[0m: 'tuple' object does not support item assignment"
          ]
        }
      ]
    },
    {
      "cell_type": "code",
      "source": [
        "def deposita(conta): # variação \"funcional\"(separando o comportamento dos dados)\n",
        "  novo_saldo = conta[1] + 100\n",
        "  codigo = conta[0]\n",
        "  return (codigo, novo_saldo)"
      ],
      "metadata": {
        "id": "64K3Ep8HBMo0"
      },
      "execution_count": null,
      "outputs": []
    },
    {
      "cell_type": "code",
      "source": [
        "deposita(conta_do_gui)"
      ],
      "metadata": {
        "colab": {
          "base_uri": "https://localhost:8080/"
        },
        "id": "jvaA3C4jBwWL",
        "outputId": "148eac14-17ee-4ed3-e5aa-1a218c9714d9"
      },
      "execution_count": null,
      "outputs": [
        {
          "output_type": "execute_result",
          "data": {
            "text/plain": [
              "(15, 1100)"
            ]
          },
          "metadata": {},
          "execution_count": 125
        }
      ]
    },
    {
      "cell_type": "code",
      "source": [
        "conta_do_gui"
      ],
      "metadata": {
        "colab": {
          "base_uri": "https://localhost:8080/"
        },
        "id": "6QNsPN_xB46P",
        "outputId": "bea4f9a7-a0d8-48f5-f933-515d2f59a546"
      },
      "execution_count": null,
      "outputs": [
        {
          "output_type": "execute_result",
          "data": {
            "text/plain": [
              "(15, 1000)"
            ]
          },
          "metadata": {},
          "execution_count": 126
        }
      ]
    },
    {
      "cell_type": "code",
      "source": [
        "conta_do_gui = deposita(conta_do_gui)\n",
        "conta_do_gui"
      ],
      "metadata": {
        "colab": {
          "base_uri": "https://localhost:8080/"
        },
        "id": "taQIgS2yB9Az",
        "outputId": "e3ed2372-76fb-451c-85bb-e027a7ef4f1f"
      },
      "execution_count": null,
      "outputs": [
        {
          "output_type": "execute_result",
          "data": {
            "text/plain": [
              "(15, 1100)"
            ]
          },
          "metadata": {},
          "execution_count": 127
        }
      ]
    },
    {
      "cell_type": "code",
      "source": [
        "usuarios = [guilherme, daniela]\n",
        "usuarios"
      ],
      "metadata": {
        "colab": {
          "base_uri": "https://localhost:8080/"
        },
        "id": "2RJBfbTACuKK",
        "outputId": "37e3c7fb-e3fc-469b-e4fd-e0a6edf3e7f9"
      },
      "execution_count": null,
      "outputs": [
        {
          "output_type": "execute_result",
          "data": {
            "text/plain": [
              "[('Gulherme', 37, 1981), ('Daniela', 31, 1987)]"
            ]
          },
          "metadata": {},
          "execution_count": 130
        }
      ]
    },
    {
      "cell_type": "code",
      "source": [
        "usuarios.append(('Paulo', 39, 1979))"
      ],
      "metadata": {
        "id": "N3UCCifzDvDR"
      },
      "execution_count": null,
      "outputs": []
    },
    {
      "cell_type": "code",
      "source": [
        "usuarios"
      ],
      "metadata": {
        "colab": {
          "base_uri": "https://localhost:8080/"
        },
        "id": "5t0lzhS5D4YZ",
        "outputId": "01ebed18-9b62-4641-c8a8-721fc43bf7c8"
      },
      "execution_count": null,
      "outputs": [
        {
          "output_type": "execute_result",
          "data": {
            "text/plain": [
              "[('Gulherme', 37, 1981), ('Daniela', 31, 1987), ('Paulo', 39, 1979)]"
            ]
          },
          "metadata": {},
          "execution_count": 132
        }
      ]
    },
    {
      "cell_type": "code",
      "source": [
        "usuarios[0][0] = 'Guilherme Silveira'"
      ],
      "metadata": {
        "colab": {
          "base_uri": "https://localhost:8080/",
          "height": 141
        },
        "id": "3bCtGQ11D_lh",
        "outputId": "b038362f-2469-43d3-87d9-299c7658dbdf"
      },
      "execution_count": null,
      "outputs": [
        {
          "output_type": "error",
          "ename": "TypeError",
          "evalue": "'tuple' object does not support item assignment",
          "traceback": [
            "\u001b[0;31m---------------------------------------------------------------------------\u001b[0m",
            "\u001b[0;31mTypeError\u001b[0m                                 Traceback (most recent call last)",
            "\u001b[0;32m<ipython-input-133-dc00118821b7>\u001b[0m in \u001b[0;36m<cell line: 1>\u001b[0;34m()\u001b[0m\n\u001b[0;32m----> 1\u001b[0;31m \u001b[0musuarios\u001b[0m\u001b[0;34m[\u001b[0m\u001b[0;36m0\u001b[0m\u001b[0;34m]\u001b[0m\u001b[0;34m[\u001b[0m\u001b[0;36m0\u001b[0m\u001b[0;34m]\u001b[0m \u001b[0;34m=\u001b[0m \u001b[0;34m'Guilherme Silveira'\u001b[0m\u001b[0;34m\u001b[0m\u001b[0;34m\u001b[0m\u001b[0m\n\u001b[0m",
            "\u001b[0;31mTypeError\u001b[0m: 'tuple' object does not support item assignment"
          ]
        }
      ]
    },
    {
      "cell_type": "code",
      "source": [
        "conta_do_gui = ContaCorrente(15)\n",
        "conta_do_gui.deposita(500)\n",
        "conta_da_dani = ContaCorrente(234876)\n",
        "conta_da_dani.deposita(1000)\n",
        "\n",
        "contas = (conta_do_gui, conta_da_dani)"
      ],
      "metadata": {
        "id": "b7FmCJ0iEa24"
      },
      "execution_count": null,
      "outputs": []
    },
    {
      "cell_type": "code",
      "source": [
        "for conta in contas:\n",
        "  print(conta)"
      ],
      "metadata": {
        "colab": {
          "base_uri": "https://localhost:8080/"
        },
        "id": "8F8hzVzbE6f7",
        "outputId": "bfe639a5-c0d2-42af-e8f6-8be3a9c4a987"
      },
      "execution_count": null,
      "outputs": [
        {
          "output_type": "stream",
          "name": "stdout",
          "text": [
            "[>>Código 15 Saldo 500<<]\n",
            "[>>Código 234876 Saldo 1000<<]\n"
          ]
        }
      ]
    },
    {
      "cell_type": "code",
      "source": [
        "contas[0].deposita(300)"
      ],
      "metadata": {
        "id": "UAz3_hVsE-RL"
      },
      "execution_count": null,
      "outputs": []
    },
    {
      "cell_type": "code",
      "source": [
        "for conta in contas:\n",
        "  print(conta)"
      ],
      "metadata": {
        "colab": {
          "base_uri": "https://localhost:8080/"
        },
        "id": "jz032_xxFbAv",
        "outputId": "d5aeb92d-6a0b-4d24-e3d3-f541306729fc"
      },
      "execution_count": null,
      "outputs": [
        {
          "output_type": "stream",
          "name": "stdout",
          "text": [
            "[>>Código 15 Saldo 800<<]\n",
            "[>>Código 234876 Saldo 1000<<]\n"
          ]
        }
      ]
    },
    {
      "cell_type": "markdown",
      "source": [
        "**- Herança e polimorfismo**"
      ],
      "metadata": {
        "id": "JsNwheX8GLvx"
      }
    },
    {
      "cell_type": "code",
      "source": [
        "from abc import ABCMeta, abstractmethod\n",
        "class Conta(metaclass=ABCMeta):\n",
        "\n",
        "  def __init__(self, codigo):\n",
        "    self._codigo = codigo\n",
        "    self._saldo = 0\n",
        "\n",
        "  def deposita(self, valor):\n",
        "    self._saldo += valor\n",
        "\n",
        "  @abstractmethod\n",
        "  def passa_o_mes(self):\n",
        "    pass\n",
        "\n",
        "  def __str__(self):\n",
        "    return '[>>Código {} Saldo {}<<]'.format(self._codigo, self._saldo)"
      ],
      "metadata": {
        "id": "763_kXcNGRVL"
      },
      "execution_count": null,
      "outputs": []
    },
    {
      "cell_type": "code",
      "source": [
        "print(Conta(88))"
      ],
      "metadata": {
        "colab": {
          "base_uri": "https://localhost:8080/",
          "height": 159
        },
        "id": "VyaO-tAbGveU",
        "outputId": "5885ee41-a09b-4658-ec4d-45f4be0b5337"
      },
      "execution_count": null,
      "outputs": [
        {
          "output_type": "error",
          "ename": "TypeError",
          "evalue": "Can't instantiate abstract class Conta with abstract method passa_o_mes",
          "traceback": [
            "\u001b[0;31m---------------------------------------------------------------------------\u001b[0m",
            "\u001b[0;31mTypeError\u001b[0m                                 Traceback (most recent call last)",
            "\u001b[0;32m<ipython-input-155-bcabbe50454b>\u001b[0m in \u001b[0;36m<cell line: 1>\u001b[0;34m()\u001b[0m\n\u001b[0;32m----> 1\u001b[0;31m \u001b[0mprint\u001b[0m\u001b[0;34m(\u001b[0m\u001b[0mConta\u001b[0m\u001b[0;34m(\u001b[0m\u001b[0;36m88\u001b[0m\u001b[0;34m)\u001b[0m\u001b[0;34m)\u001b[0m\u001b[0;34m\u001b[0m\u001b[0;34m\u001b[0m\u001b[0m\n\u001b[0m",
            "\u001b[0;31mTypeError\u001b[0m: Can't instantiate abstract class Conta with abstract method passa_o_mes"
          ]
        }
      ]
    },
    {
      "cell_type": "code",
      "source": [
        "class ContaCorrente(Conta):\n",
        "\n",
        "  def passa_o_mes(self):\n",
        "    self._saldo -= 2\n",
        "\n",
        "class ContaPoupanca(Conta):\n",
        "\n",
        "  def passa_o_mes(self):\n",
        "    self._saldo *= 1.01\n",
        "    self._saldo -= 3\n",
        "\n",
        "class ContaInvestimento(Conta):\n",
        "  pass"
      ],
      "metadata": {
        "id": "rVHI2XGLG3FV"
      },
      "execution_count": null,
      "outputs": []
    },
    {
      "cell_type": "code",
      "source": [
        "ContaInvestimento(764)"
      ],
      "metadata": {
        "colab": {
          "base_uri": "https://localhost:8080/",
          "height": 159
        },
        "id": "6En49L7ZNJkw",
        "outputId": "a63c7c37-9bfe-44ae-c4cc-97af41f0098c"
      },
      "execution_count": null,
      "outputs": [
        {
          "output_type": "error",
          "ename": "TypeError",
          "evalue": "Can't instantiate abstract class ContaInvestimento with abstract method passa_o_mes",
          "traceback": [
            "\u001b[0;31m---------------------------------------------------------------------------\u001b[0m",
            "\u001b[0;31mTypeError\u001b[0m                                 Traceback (most recent call last)",
            "\u001b[0;32m<ipython-input-157-88113fa11745>\u001b[0m in \u001b[0;36m<cell line: 1>\u001b[0;34m()\u001b[0m\n\u001b[0;32m----> 1\u001b[0;31m \u001b[0mContaInvestimento\u001b[0m\u001b[0;34m(\u001b[0m\u001b[0;36m764\u001b[0m\u001b[0;34m)\u001b[0m\u001b[0;34m\u001b[0m\u001b[0;34m\u001b[0m\u001b[0m\n\u001b[0m",
            "\u001b[0;31mTypeError\u001b[0m: Can't instantiate abstract class ContaInvestimento with abstract method passa_o_mes"
          ]
        }
      ]
    },
    {
      "cell_type": "code",
      "source": [
        "conta16 = ContaCorrente(16)\n",
        "conta16.deposita(1000)\n",
        "conta16.passa_o_mes()\n",
        "print(conta16)"
      ],
      "metadata": {
        "colab": {
          "base_uri": "https://localhost:8080/"
        },
        "id": "5CZ5wUBjIMhq",
        "outputId": "384a7a32-6d11-42c7-ffa6-7ddd0fa618f3"
      },
      "execution_count": null,
      "outputs": [
        {
          "output_type": "stream",
          "name": "stdout",
          "text": [
            "[>>Código 16 Saldo 998<<]\n"
          ]
        }
      ]
    },
    {
      "cell_type": "code",
      "source": [
        "conta17 = ContaPoupanca(17)\n",
        "conta17.deposita(1000)\n",
        "conta17.passa_o_mes()\n",
        "print(conta17)"
      ],
      "metadata": {
        "colab": {
          "base_uri": "https://localhost:8080/"
        },
        "id": "VD5K9_VbIk8G",
        "outputId": "e0322ce5-989e-4359-8354-4c0b661be4c7"
      },
      "execution_count": null,
      "outputs": [
        {
          "output_type": "stream",
          "name": "stdout",
          "text": [
            "[>>Código 17 Saldo 1007.0<<]\n"
          ]
        }
      ]
    },
    {
      "cell_type": "code",
      "source": [
        "conta16 = ContaCorrente(16)\n",
        "conta16.deposita(1000)\n",
        "conta17 = ContaPoupanca(17)\n",
        "conta17.deposita(1000)\n",
        "contas = [conta16, conta17]\n",
        "\n",
        "for conta in contas:\n",
        "  conta.passa_o_mes()  # duck typing\n",
        "  print(conta)"
      ],
      "metadata": {
        "colab": {
          "base_uri": "https://localhost:8080/"
        },
        "id": "v4vuitGTJH0g",
        "outputId": "e1315c35-8a37-41a3-ce11-99269a51178b"
      },
      "execution_count": null,
      "outputs": [
        {
          "output_type": "stream",
          "name": "stdout",
          "text": [
            "[>>Código 16 Saldo 998<<]\n",
            "[>>Código 17 Saldo 1007.0<<]\n"
          ]
        }
      ]
    },
    {
      "cell_type": "markdown",
      "source": [
        "**- array, eviraremos usar**"
      ],
      "metadata": {
        "id": "_WWOlf0qKDPL"
      }
    },
    {
      "cell_type": "markdown",
      "source": [
        "**evitaremos usar array puro. Se precisamos de trabalho numérico, contume usar numpy**"
      ],
      "metadata": {
        "id": "XcB1pmULMUX1"
      }
    },
    {
      "cell_type": "code",
      "source": [
        "import array as arr # array do Python, uso não comum\n",
        "\n",
        "arr.array('d', [1, 3.5])"
      ],
      "metadata": {
        "colab": {
          "base_uri": "https://localhost:8080/"
        },
        "id": "TT_2TaMPJ_bj",
        "outputId": "271ea1bd-a360-47cc-ff60-09e841420bae"
      },
      "execution_count": null,
      "outputs": [
        {
          "output_type": "execute_result",
          "data": {
            "text/plain": [
              "array('d', [1.0, 3.5])"
            ]
          },
          "metadata": {},
          "execution_count": 147
        }
      ]
    },
    {
      "cell_type": "code",
      "source": [
        "# !pip install numpy\n",
        "import numpy as np\n",
        "\n",
        "numeros = np.array([1, 3.5])\n",
        "numeros"
      ],
      "metadata": {
        "colab": {
          "base_uri": "https://localhost:8080/"
        },
        "id": "DXS_hrCJLkqg",
        "outputId": "a12a301d-a243-49eb-acc8-e7cdcf37a605"
      },
      "execution_count": null,
      "outputs": [
        {
          "output_type": "execute_result",
          "data": {
            "text/plain": [
              "array([1. , 3.5])"
            ]
          },
          "metadata": {},
          "execution_count": 149
        }
      ]
    },
    {
      "cell_type": "code",
      "source": [
        "numeros + 3"
      ],
      "metadata": {
        "colab": {
          "base_uri": "https://localhost:8080/"
        },
        "id": "kTSHrerHL9HD",
        "outputId": "64ef7ff5-7d78-4ea1-b833-b9c4498795f9"
      },
      "execution_count": null,
      "outputs": [
        {
          "output_type": "execute_result",
          "data": {
            "text/plain": [
              "array([4. , 6.5])"
            ]
          },
          "metadata": {},
          "execution_count": 150
        }
      ]
    },
    {
      "cell_type": "code",
      "source": [
        "class ContaSalario:\n",
        "\n",
        "  def __init__(self, codigo):\n",
        "    self._codigo = codigo\n",
        "    self._saldo = 0\n",
        "\n",
        "  def deposita(self, valor):\n",
        "    self._saldo += valor\n",
        "\n",
        "  def __str__(self):\n",
        "    return '[>>Código {} Saldo {}<<]'.format(self._codigo, self._saldo)"
      ],
      "metadata": {
        "id": "jI3hK4WuMi0R"
      },
      "execution_count": null,
      "outputs": []
    },
    {
      "cell_type": "code",
      "source": [
        "conta1 = ContaSalario(37)\n",
        "print(conta1)"
      ],
      "metadata": {
        "colab": {
          "base_uri": "https://localhost:8080/"
        },
        "id": "FeKjCqHgQgBR",
        "outputId": "f5f2a67d-b0ac-4111-dcfa-769b371b7d57"
      },
      "execution_count": null,
      "outputs": [
        {
          "output_type": "stream",
          "name": "stdout",
          "text": [
            "[>>Código 37 Saldo 0<<]\n"
          ]
        }
      ]
    },
    {
      "cell_type": "code",
      "source": [
        "conta2 = ContaSalario(37)\n",
        "print(conta2)\n"
      ],
      "metadata": {
        "colab": {
          "base_uri": "https://localhost:8080/"
        },
        "id": "Ch1w0PEBQ2Nk",
        "outputId": "6485303d-993c-4a6e-c446-cd61158f806e"
      },
      "execution_count": null,
      "outputs": [
        {
          "output_type": "stream",
          "name": "stdout",
          "text": [
            "[>>Código 37 Saldo 0<<]\n"
          ]
        }
      ]
    },
    {
      "cell_type": "code",
      "source": [
        "conta1 == conta2"
      ],
      "metadata": {
        "colab": {
          "base_uri": "https://localhost:8080/"
        },
        "id": "wseDaFKORCYp",
        "outputId": "e1974930-bc1f-4cc6-a8b9-db38e6766b7d"
      },
      "execution_count": null,
      "outputs": [
        {
          "output_type": "execute_result",
          "data": {
            "text/plain": [
              "False"
            ]
          },
          "metadata": {},
          "execution_count": 166
        }
      ]
    },
    {
      "cell_type": "code",
      "source": [
        "contas = [conta1]\n",
        "conta1 in contas"
      ],
      "metadata": {
        "colab": {
          "base_uri": "https://localhost:8080/"
        },
        "id": "07v_smJWRRRL",
        "outputId": "1deea284-7f42-4995-b78b-630a8de85964"
      },
      "execution_count": null,
      "outputs": [
        {
          "output_type": "execute_result",
          "data": {
            "text/plain": [
              "True"
            ]
          },
          "metadata": {},
          "execution_count": 167
        }
      ]
    },
    {
      "cell_type": "code",
      "source": [
        "conta2 in contas"
      ],
      "metadata": {
        "colab": {
          "base_uri": "https://localhost:8080/"
        },
        "id": "WIo4yaORRaSp",
        "outputId": "36897a2d-d861-4922-82c6-0aca4209dfd7"
      },
      "execution_count": null,
      "outputs": [
        {
          "output_type": "execute_result",
          "data": {
            "text/plain": [
              "False"
            ]
          },
          "metadata": {},
          "execution_count": 168
        }
      ]
    },
    {
      "cell_type": "code",
      "source": [
        "class ContaSalario:\n",
        "\n",
        "  def __init__(self, codigo):\n",
        "    self._codigo = codigo\n",
        "    self._saldo = 0\n",
        "\n",
        "  def __eq__(self, outro):\n",
        "    return self._codigo == outro._codigo\n",
        "\n",
        "  def deposita(self, valor):\n",
        "    self._saldo += valor\n",
        "\n",
        "  def __str__(self):\n",
        "    return '[>>Código {} Saldo {}<<]'.format(self._codigo, self._saldo)"
      ],
      "metadata": {
        "id": "z-1wxPknR3Mt"
      },
      "execution_count": null,
      "outputs": []
    },
    {
      "cell_type": "code",
      "source": [
        "conta1 = ContaSalario(37)\n",
        "conta2 = ContaSalario(37)\n",
        "conta1 == conta2"
      ],
      "metadata": {
        "colab": {
          "base_uri": "https://localhost:8080/"
        },
        "id": "Z4sL-a5RSTpG",
        "outputId": "be0cbbc0-1e0c-4fd5-c622-52fe60c24136"
      },
      "execution_count": null,
      "outputs": [
        {
          "output_type": "execute_result",
          "data": {
            "text/plain": [
              "True"
            ]
          },
          "metadata": {},
          "execution_count": 173
        }
      ]
    },
    {
      "cell_type": "code",
      "source": [
        "conta1 != conta2"
      ],
      "metadata": {
        "colab": {
          "base_uri": "https://localhost:8080/"
        },
        "id": "Hxu-K_BZSiwe",
        "outputId": "794ae016-b92c-4bf0-ae0d-9003e419e1e9"
      },
      "execution_count": null,
      "outputs": [
        {
          "output_type": "execute_result",
          "data": {
            "text/plain": [
              "False"
            ]
          },
          "metadata": {},
          "execution_count": 174
        }
      ]
    },
    {
      "cell_type": "code",
      "source": [
        "conta1 in [conta2]"
      ],
      "metadata": {
        "colab": {
          "base_uri": "https://localhost:8080/"
        },
        "id": "u-5liVG0Soua",
        "outputId": "0b10391d-7259-4913-a04e-ee4756e574d5"
      },
      "execution_count": null,
      "outputs": [
        {
          "output_type": "execute_result",
          "data": {
            "text/plain": [
              "True"
            ]
          },
          "metadata": {},
          "execution_count": 175
        }
      ]
    },
    {
      "cell_type": "code",
      "source": [
        "conta2 in [conta1]"
      ],
      "metadata": {
        "colab": {
          "base_uri": "https://localhost:8080/"
        },
        "id": "lctqiuabSttd",
        "outputId": "dd8a17f5-1903-4510-d908-687dba4c8e0b"
      },
      "execution_count": null,
      "outputs": [
        {
          "output_type": "execute_result",
          "data": {
            "text/plain": [
              "True"
            ]
          },
          "metadata": {},
          "execution_count": 176
        }
      ]
    },
    {
      "cell_type": "code",
      "source": [
        "class ContaSalario:\n",
        "\n",
        "  def __init__(self, codigo):\n",
        "    self._codigo = codigo\n",
        "    self._saldo = 0\n",
        "\n",
        "  def __eq__(self, outro):\n",
        "    return self._codigo == outro._codigo and self._saldo == outro._saldo\n",
        "\n",
        "  def deposita(self, valor):\n",
        "    self._saldo += valor\n",
        "\n",
        "  def __str__(self):\n",
        "    return '[>>Código {} Saldo {}<<]'.format(self._codigo, self._saldo)"
      ],
      "metadata": {
        "id": "orxYMH36TC9M"
      },
      "execution_count": null,
      "outputs": []
    },
    {
      "cell_type": "code",
      "source": [
        "conta1 = ContaSalario(37)\n",
        "conta2 = ContaSalario(37)\n",
        "conta1 == conta2"
      ],
      "metadata": {
        "colab": {
          "base_uri": "https://localhost:8080/"
        },
        "id": "luM0_CXfTOQK",
        "outputId": "55360c51-e995-4241-c67a-495d0898460f"
      },
      "execution_count": null,
      "outputs": [
        {
          "output_type": "execute_result",
          "data": {
            "text/plain": [
              "True"
            ]
          },
          "metadata": {},
          "execution_count": 181
        }
      ]
    },
    {
      "cell_type": "code",
      "source": [
        "conta1.deposita(10)"
      ],
      "metadata": {
        "id": "zVfFpWQvTTVR"
      },
      "execution_count": null,
      "outputs": []
    },
    {
      "cell_type": "code",
      "source": [
        "conta1 == conta2"
      ],
      "metadata": {
        "colab": {
          "base_uri": "https://localhost:8080/"
        },
        "id": "DZlZ6qhGTWj7",
        "outputId": "49b32b71-2df2-49b8-cfdb-d09a5f77c7f3"
      },
      "execution_count": null,
      "outputs": [
        {
          "output_type": "execute_result",
          "data": {
            "text/plain": [
              "False"
            ]
          },
          "metadata": {},
          "execution_count": 183
        }
      ]
    },
    {
      "cell_type": "code",
      "source": [
        "class ContaSalario:\n",
        "\n",
        "  def __init__(self, codigo):\n",
        "    self._codigo = codigo\n",
        "    self._saldo = 0\n",
        "\n",
        "  def __eq__(self, outro):\n",
        "    if type(outro) != ContaSalario:\n",
        "      return False\n",
        "\n",
        "    return self._codigo == outro._codigo and self._saldo == outro._saldo\n",
        "\n",
        "  def deposita(self, valor):\n",
        "    self._saldo += valor\n",
        "\n",
        "  def __str__(self):\n",
        "    return '[>>Código {} Saldo {}<<]'.format(self._codigo, self._saldo)"
      ],
      "metadata": {
        "id": "4DkkPgx7TmuE"
      },
      "execution_count": null,
      "outputs": []
    },
    {
      "cell_type": "code",
      "source": [
        "conta1 = ContaSalario(37)\n",
        "conta2 = ContaCorrente(37)"
      ],
      "metadata": {
        "id": "IaCSu_VGT5kK"
      },
      "execution_count": null,
      "outputs": []
    },
    {
      "cell_type": "code",
      "source": [
        "conta1 == conta2"
      ],
      "metadata": {
        "colab": {
          "base_uri": "https://localhost:8080/"
        },
        "id": "BWp1pggeUChy",
        "outputId": "955304a2-7389-4b04-9d8a-2efb62541113"
      },
      "execution_count": null,
      "outputs": [
        {
          "output_type": "execute_result",
          "data": {
            "text/plain": [
              "False"
            ]
          },
          "metadata": {},
          "execution_count": 186
        }
      ]
    },
    {
      "cell_type": "code",
      "source": [
        "isinstance(ContaCorrente(34), ContaCorrente)"
      ],
      "metadata": {
        "colab": {
          "base_uri": "https://localhost:8080/"
        },
        "id": "dS1wn6YjUyOf",
        "outputId": "6ebb3848-7fa2-4ce9-8845-6f99c6e47b08"
      },
      "execution_count": null,
      "outputs": [
        {
          "output_type": "execute_result",
          "data": {
            "text/plain": [
              "True"
            ]
          },
          "metadata": {},
          "execution_count": 188
        }
      ]
    },
    {
      "cell_type": "code",
      "source": [
        "isinstance(ContaCorrente(34), Conta)"
      ],
      "metadata": {
        "colab": {
          "base_uri": "https://localhost:8080/"
        },
        "id": "34Z5UtaXVDjm",
        "outputId": "db16517c-49f3-4ff5-90c4-7b17bd5d59ce"
      },
      "execution_count": null,
      "outputs": [
        {
          "output_type": "execute_result",
          "data": {
            "text/plain": [
              "True"
            ]
          },
          "metadata": {},
          "execution_count": 189
        }
      ]
    },
    {
      "cell_type": "code",
      "source": [
        "class ContaSalario:\n",
        "\n",
        "  def __init__(self, codigo):\n",
        "    self._codigo = codigo\n",
        "    self._saldo = 0\n",
        "\n",
        "  def __eq__(self, outro):\n",
        "    if type(outro) != ContaSalario:\n",
        "      return False\n",
        "\n",
        "    return self._codigo == outro._codigo and self._saldo == outro._saldo\n",
        "\n",
        "  def deposita(self, valor):\n",
        "    self._saldo += valor\n",
        "\n",
        "  def __str__(self):\n",
        "    return '[>>Código {} Saldo {}<<]'.format(self._codigo, self._saldo)\n",
        "\n",
        "class ContaMultiploSalario(ContaSalario):\n",
        "  pass"
      ],
      "metadata": {
        "id": "zmDeWbk3UPZq"
      },
      "execution_count": null,
      "outputs": []
    },
    {
      "cell_type": "code",
      "source": [
        "idades = [15, 87,32, 65, 56, 32, 49, 37]\n",
        "\n",
        "for i in range(len(idades)):\n",
        "  print(i, idades[i])"
      ],
      "metadata": {
        "colab": {
          "base_uri": "https://localhost:8080/"
        },
        "id": "hkkqjETbUc2W",
        "outputId": "cca6ee70-967c-45c3-f9f0-e88b75c81420"
      },
      "execution_count": null,
      "outputs": [
        {
          "output_type": "stream",
          "name": "stdout",
          "text": [
            "0 15\n",
            "1 87\n",
            "2 32\n",
            "3 65\n",
            "4 56\n",
            "5 32\n",
            "6 49\n",
            "7 37\n"
          ]
        }
      ]
    },
    {
      "cell_type": "code",
      "source": [
        "enumerate(idades)"
      ],
      "metadata": {
        "colab": {
          "base_uri": "https://localhost:8080/"
        },
        "id": "XTByl6dgiCfA",
        "outputId": "b0c22132-c20b-4654-a357-bb3071d90d38"
      },
      "execution_count": null,
      "outputs": [
        {
          "output_type": "execute_result",
          "data": {
            "text/plain": [
              "<enumerate at 0x79a7c3cf6500>"
            ]
          },
          "metadata": {},
          "execution_count": 195
        }
      ]
    },
    {
      "cell_type": "code",
      "source": [
        "list(range(len(idades)))"
      ],
      "metadata": {
        "colab": {
          "base_uri": "https://localhost:8080/"
        },
        "id": "hae0Zv23iSZB",
        "outputId": "757ea696-2d20-4aaa-f57c-fcef58d7fa29"
      },
      "execution_count": null,
      "outputs": [
        {
          "output_type": "execute_result",
          "data": {
            "text/plain": [
              "[0, 1, 2, 3, 4, 5, 6, 7]"
            ]
          },
          "metadata": {},
          "execution_count": 196
        }
      ]
    },
    {
      "cell_type": "code",
      "source": [
        "list(enumerate(idades))"
      ],
      "metadata": {
        "colab": {
          "base_uri": "https://localhost:8080/"
        },
        "id": "NOpS9_GTil_R",
        "outputId": "005af477-1dfe-4c83-bd7c-fa7b8b41868b"
      },
      "execution_count": null,
      "outputs": [
        {
          "output_type": "execute_result",
          "data": {
            "text/plain": [
              "[(0, 15), (1, 87), (2, 32), (3, 65), (4, 56), (5, 32), (6, 49), (7, 37)]"
            ]
          },
          "metadata": {},
          "execution_count": 199
        }
      ]
    },
    {
      "cell_type": "code",
      "source": [
        "for indice, idade in enumerate(idades):\n",
        "  print(indice, 'x', idade)"
      ],
      "metadata": {
        "colab": {
          "base_uri": "https://localhost:8080/"
        },
        "id": "Y9b3b4NOi_vL",
        "outputId": "8caf84ae-35e7-4342-d4b8-7c39e73d1a31"
      },
      "execution_count": null,
      "outputs": [
        {
          "output_type": "stream",
          "name": "stdout",
          "text": [
            "0 x 15\n",
            "1 x 87\n",
            "2 x 32\n",
            "3 x 65\n",
            "4 x 56\n",
            "5 x 32\n",
            "6 x 49\n",
            "7 x 37\n"
          ]
        }
      ]
    },
    {
      "cell_type": "code",
      "source": [
        "usuarios = {\n",
        "    ('Guilherme', 37, 1981),\n",
        "    ('Daniela', 31, 1987),\n",
        "    ('Paulo', 39, 1979)\n",
        "}\n",
        "\n",
        "for nome, idade, nascimento in usuarios:\n",
        "  print(nome)"
      ],
      "metadata": {
        "colab": {
          "base_uri": "https://localhost:8080/"
        },
        "id": "z-SSCZuSjp-g",
        "outputId": "248b6678-ed8f-4fe4-94a2-df9e45f44e73"
      },
      "execution_count": null,
      "outputs": [
        {
          "output_type": "stream",
          "name": "stdout",
          "text": [
            "Paulo\n",
            "Daniela\n",
            "Guilherme\n"
          ]
        }
      ]
    },
    {
      "cell_type": "code",
      "source": [
        "for nome, _, _ in usuarios:\n",
        "  print(nome)"
      ],
      "metadata": {
        "colab": {
          "base_uri": "https://localhost:8080/"
        },
        "id": "YhTmdjZtkKmT",
        "outputId": "814602d7-c447-42f5-b4d0-439c7dc60651"
      },
      "execution_count": null,
      "outputs": [
        {
          "output_type": "stream",
          "name": "stdout",
          "text": [
            "Paulo\n",
            "Daniela\n",
            "Guilherme\n"
          ]
        }
      ]
    },
    {
      "cell_type": "code",
      "source": [
        "idades"
      ],
      "metadata": {
        "colab": {
          "base_uri": "https://localhost:8080/"
        },
        "id": "uGeKfimClIPc",
        "outputId": "ddaf5ac5-efb6-4fec-e2cf-ce1288491846"
      },
      "execution_count": null,
      "outputs": [
        {
          "output_type": "execute_result",
          "data": {
            "text/plain": [
              "[15, 32, 32, 37, 49, 56, 65, 87]"
            ]
          },
          "metadata": {},
          "execution_count": 216
        }
      ]
    },
    {
      "cell_type": "code",
      "source": [
        "sorted(idades)"
      ],
      "metadata": {
        "colab": {
          "base_uri": "https://localhost:8080/"
        },
        "id": "S1XDkTuKlNjD",
        "outputId": "6ad2f024-e8a3-433f-e244-72c819173e43"
      },
      "execution_count": null,
      "outputs": [
        {
          "output_type": "execute_result",
          "data": {
            "text/plain": [
              "[15, 32, 32, 37, 49, 56, 65, 87]"
            ]
          },
          "metadata": {},
          "execution_count": 207
        }
      ]
    },
    {
      "cell_type": "code",
      "source": [
        "list(reversed(idades))"
      ],
      "metadata": {
        "colab": {
          "base_uri": "https://localhost:8080/"
        },
        "id": "kjFMg4vClaLT",
        "outputId": "fb93a0e1-7771-4123-9d68-0a0c9fab63d3"
      },
      "execution_count": null,
      "outputs": [
        {
          "output_type": "execute_result",
          "data": {
            "text/plain": [
              "[37, 49, 32, 56, 65, 32, 87, 15]"
            ]
          },
          "metadata": {},
          "execution_count": 208
        }
      ]
    },
    {
      "cell_type": "code",
      "source": [
        "sorted(idades, reverse=True)"
      ],
      "metadata": {
        "colab": {
          "base_uri": "https://localhost:8080/"
        },
        "id": "YkEBxNPzluZP",
        "outputId": "0438e83e-0d95-4f0d-f85a-3f60ceb87e3a"
      },
      "execution_count": null,
      "outputs": [
        {
          "output_type": "execute_result",
          "data": {
            "text/plain": [
              "[87, 65, 56, 49, 37, 32, 32, 15]"
            ]
          },
          "metadata": {},
          "execution_count": 209
        }
      ]
    },
    {
      "cell_type": "code",
      "source": [
        "idades"
      ],
      "metadata": {
        "colab": {
          "base_uri": "https://localhost:8080/"
        },
        "id": "fhD-IFG8mEjZ",
        "outputId": "303ac1b8-4d1e-4a95-9185-c765fe40c599"
      },
      "execution_count": null,
      "outputs": [
        {
          "output_type": "execute_result",
          "data": {
            "text/plain": [
              "[15, 87, 32, 65, 56, 32, 49, 37]"
            ]
          },
          "metadata": {},
          "execution_count": 220
        }
      ]
    },
    {
      "cell_type": "code",
      "source": [
        "idades.sort()\n",
        "idades"
      ],
      "metadata": {
        "colab": {
          "base_uri": "https://localhost:8080/"
        },
        "id": "Zq6qZitLmXPS",
        "outputId": "335f1bfd-52df-4660-f299-a1b98b15acf2"
      },
      "execution_count": null,
      "outputs": [
        {
          "output_type": "execute_result",
          "data": {
            "text/plain": [
              "[15, 32, 32, 37, 49, 56, 65, 87]"
            ]
          },
          "metadata": {},
          "execution_count": 221
        }
      ]
    },
    {
      "cell_type": "code",
      "source": [
        "nomes = ['Guilherme', 'Daniela', 'Paulo']\n",
        "sorted(nomes)"
      ],
      "metadata": {
        "colab": {
          "base_uri": "https://localhost:8080/"
        },
        "id": "OUHWaLF5nvNv",
        "outputId": "97a21932-a056-4c2e-dc10-9ec28582b772"
      },
      "execution_count": null,
      "outputs": [
        {
          "output_type": "execute_result",
          "data": {
            "text/plain": [
              "['Daniela', 'Guilherme', 'Paulo']"
            ]
          },
          "metadata": {},
          "execution_count": 222
        }
      ]
    },
    {
      "cell_type": "code",
      "source": [
        "nomes = ['guilherme', 'Daniela', 'Paulo']\n",
        "sorted(nomes)"
      ],
      "metadata": {
        "colab": {
          "base_uri": "https://localhost:8080/"
        },
        "id": "nB3OdgAxoDGN",
        "outputId": "a5f8ef97-1f44-46a9-d8d4-99bfaaa1beca"
      },
      "execution_count": null,
      "outputs": [
        {
          "output_type": "execute_result",
          "data": {
            "text/plain": [
              "['Daniela', 'Paulo', 'guilherme']"
            ]
          },
          "metadata": {},
          "execution_count": 223
        }
      ]
    },
    {
      "cell_type": "code",
      "source": [
        "class ContaSalario:\n",
        "\n",
        "  def __init__(self, codigo):\n",
        "    self._codigo = codigo\n",
        "    self._saldo = 0\n",
        "\n",
        "  def __eq__(self, outro):\n",
        "    if type(outro) != ContaSalario:\n",
        "      return False\n",
        "\n",
        "    return self._codigo == outro._codigo and self._saldo == outro._saldo\n",
        "\n",
        "  def __lt__(self, outro):\n",
        "    return self._saldo < outro._saldo\n",
        "\n",
        "  def deposita(self, valor):\n",
        "    self._saldo += valor\n",
        "\n",
        "  def __str__(self):\n",
        "    return '[>>Código {} Saldo {}<<]'.format(self._codigo, self._saldo)\n"
      ],
      "metadata": {
        "id": "uYvjUYuToRMD"
      },
      "execution_count": null,
      "outputs": []
    },
    {
      "cell_type": "code",
      "source": [
        "conta_do_guilherme = ContaSalario(17)\n",
        "conta_do_guilherme.deposita(500)\n",
        "\n",
        "conta_da_daniela = ContaSalario(3)\n",
        "conta_da_daniela.deposita(1000)\n",
        "\n",
        "conta_do_paulo = ContaSalario(133)\n",
        "conta_do_paulo.deposita(510)\n",
        "\n",
        "contas = [conta_do_guilherme, conta_da_daniela, conta_do_paulo]"
      ],
      "metadata": {
        "id": "hhrKAaTgog5Q"
      },
      "execution_count": null,
      "outputs": []
    },
    {
      "cell_type": "code",
      "source": [
        "for conta in contas:\n",
        "  print(conta)"
      ],
      "metadata": {
        "colab": {
          "base_uri": "https://localhost:8080/"
        },
        "id": "50_PHrOwo7az",
        "outputId": "ffe605b0-c993-4592-98d1-654218b9de3c"
      },
      "execution_count": null,
      "outputs": [
        {
          "output_type": "stream",
          "name": "stdout",
          "text": [
            "[>>Código 17 Saldo 500<<]\n",
            "[>>Código 3 Saldo 1000<<]\n",
            "[>>Código 133 Saldo 510<<]\n"
          ]
        }
      ]
    },
    {
      "cell_type": "code",
      "source": [
        "sorted(contas)"
      ],
      "metadata": {
        "colab": {
          "base_uri": "https://localhost:8080/",
          "height": 159
        },
        "id": "i6jw--i4pEDq",
        "outputId": "bd182a60-c1bd-424f-94e0-6d3514f2822c"
      },
      "execution_count": null,
      "outputs": [
        {
          "output_type": "error",
          "ename": "TypeError",
          "evalue": "'<' not supported between instances of 'ContaSalario' and 'ContaSalario'",
          "traceback": [
            "\u001b[0;31m---------------------------------------------------------------------------\u001b[0m",
            "\u001b[0;31mTypeError\u001b[0m                                 Traceback (most recent call last)",
            "\u001b[0;32m<ipython-input-227-df7230969aa4>\u001b[0m in \u001b[0;36m<cell line: 1>\u001b[0;34m()\u001b[0m\n\u001b[0;32m----> 1\u001b[0;31m \u001b[0msorted\u001b[0m\u001b[0;34m(\u001b[0m\u001b[0mcontas\u001b[0m\u001b[0;34m)\u001b[0m\u001b[0;34m\u001b[0m\u001b[0;34m\u001b[0m\u001b[0m\n\u001b[0m",
            "\u001b[0;31mTypeError\u001b[0m: '<' not supported between instances of 'ContaSalario' and 'ContaSalario'"
          ]
        }
      ]
    },
    {
      "cell_type": "code",
      "source": [
        "def extrai_saldo(conta):\n",
        "  return conta._saldo\n",
        "\n",
        "for conta in sorted(contas, key=extrai_saldo):\n",
        "  print(conta)"
      ],
      "metadata": {
        "colab": {
          "base_uri": "https://localhost:8080/"
        },
        "id": "PC73qpqCpSXI",
        "outputId": "737cefef-c397-43ab-d6f2-25b4cc70645d"
      },
      "execution_count": null,
      "outputs": [
        {
          "output_type": "stream",
          "name": "stdout",
          "text": [
            "[>>Código 17 Saldo 500<<]\n",
            "[>>Código 133 Saldo 510<<]\n",
            "[>>Código 3 Saldo 1000<<]\n"
          ]
        }
      ]
    },
    {
      "cell_type": "code",
      "source": [
        "from operator import attrgetter\n",
        "\n",
        "for conta in sorted(contas, key=attrgetter('_saldo')):\n",
        "  print(conta)"
      ],
      "metadata": {
        "colab": {
          "base_uri": "https://localhost:8080/"
        },
        "id": "zKm8LLVLqgt_",
        "outputId": "6ffc7420-271e-4848-e478-59485b390470"
      },
      "execution_count": null,
      "outputs": [
        {
          "output_type": "stream",
          "name": "stdout",
          "text": [
            "[>>Código 17 Saldo 500<<]\n",
            "[>>Código 133 Saldo 510<<]\n",
            "[>>Código 3 Saldo 1000<<]\n"
          ]
        }
      ]
    },
    {
      "cell_type": "code",
      "source": [
        "conta_do_guilherme < conta_da_daniela"
      ],
      "metadata": {
        "colab": {
          "base_uri": "https://localhost:8080/"
        },
        "id": "8mVQ-s2trmf0",
        "outputId": "ca035c65-46a7-4d51-97db-5c26549648e3"
      },
      "execution_count": null,
      "outputs": [
        {
          "output_type": "execute_result",
          "data": {
            "text/plain": [
              "True"
            ]
          },
          "metadata": {},
          "execution_count": 234
        }
      ]
    },
    {
      "cell_type": "code",
      "source": [
        "conta_do_guilherme > conta_da_daniela"
      ],
      "metadata": {
        "colab": {
          "base_uri": "https://localhost:8080/"
        },
        "id": "JsZz20nbr2C5",
        "outputId": "17af8c78-44bf-4894-db31-e038139a6699"
      },
      "execution_count": null,
      "outputs": [
        {
          "output_type": "execute_result",
          "data": {
            "text/plain": [
              "False"
            ]
          },
          "metadata": {},
          "execution_count": 235
        }
      ]
    },
    {
      "cell_type": "code",
      "source": [
        "for conta in sorted(contas):\n",
        "  print(conta)"
      ],
      "metadata": {
        "colab": {
          "base_uri": "https://localhost:8080/"
        },
        "id": "yKXNNvUjsIcN",
        "outputId": "65ab5c08-c451-4b08-ac85-f874aa6c6917"
      },
      "execution_count": null,
      "outputs": [
        {
          "output_type": "stream",
          "name": "stdout",
          "text": [
            "[>>Código 17 Saldo 500<<]\n",
            "[>>Código 133 Saldo 510<<]\n",
            "[>>Código 3 Saldo 1000<<]\n"
          ]
        }
      ]
    },
    {
      "cell_type": "code",
      "source": [
        "for conta in sorted(contas, reverse=True):\n",
        "  print(conta)"
      ],
      "metadata": {
        "colab": {
          "base_uri": "https://localhost:8080/"
        },
        "id": "nN6JhSWIsX3m",
        "outputId": "ac2198e6-7994-4a99-f145-3ddb0362e93d"
      },
      "execution_count": null,
      "outputs": [
        {
          "output_type": "stream",
          "name": "stdout",
          "text": [
            "[>>Código 3 Saldo 1000<<]\n",
            "[>>Código 133 Saldo 510<<]\n",
            "[>>Código 17 Saldo 500<<]\n"
          ]
        }
      ]
    },
    {
      "cell_type": "code",
      "source": [
        "conta_do_guilherme = ContaSalario(1700)\n",
        "conta_do_guilherme.deposita(500)\n",
        "\n",
        "conta_da_daniela = ContaSalario(3)\n",
        "conta_da_daniela.deposita(1000)\n",
        "\n",
        "conta_do_paulo = ContaSalario(133)\n",
        "conta_do_paulo.deposita(500)\n",
        "\n",
        "contas = [conta_do_guilherme, conta_da_daniela, conta_do_paulo]"
      ],
      "metadata": {
        "id": "8afhcinctQ7i"
      },
      "execution_count": null,
      "outputs": []
    },
    {
      "cell_type": "code",
      "source": [
        "for conta in sorted(contas, key=attrgetter('_saldo', '_codigo')):\n",
        "  print(conta)"
      ],
      "metadata": {
        "colab": {
          "base_uri": "https://localhost:8080/"
        },
        "id": "kFq0umkXtdmB",
        "outputId": "9982b98f-05e1-41b8-c747-4aae706af501"
      },
      "execution_count": null,
      "outputs": [
        {
          "output_type": "stream",
          "name": "stdout",
          "text": [
            "[>>Código 133 Saldo 500<<]\n",
            "[>>Código 1700 Saldo 500<<]\n",
            "[>>Código 3 Saldo 1000<<]\n"
          ]
        }
      ]
    },
    {
      "cell_type": "code",
      "source": [
        "conta_do_guilherme = ContaSalario(1700)\n",
        "conta_do_guilherme.deposita(500)\n",
        "\n",
        "conta_da_daniela = ContaSalario(3)\n",
        "conta_da_daniela.deposita(500)\n",
        "\n",
        "conta_do_paulo = ContaSalario(133)\n",
        "conta_do_paulo.deposita(500)\n",
        "\n",
        "contas = [conta_do_guilherme, conta_da_daniela, conta_do_paulo]"
      ],
      "metadata": {
        "id": "Fx0GigEUt2dL"
      },
      "execution_count": null,
      "outputs": []
    },
    {
      "cell_type": "code",
      "source": [
        "for conta in sorted(contas, key=attrgetter('_saldo', '_codigo')):\n",
        "  print(conta)"
      ],
      "metadata": {
        "colab": {
          "base_uri": "https://localhost:8080/"
        },
        "id": "gI9l75kat8jh",
        "outputId": "d73735f7-039a-4d25-d82e-3a6d482d4b16"
      },
      "execution_count": null,
      "outputs": [
        {
          "output_type": "stream",
          "name": "stdout",
          "text": [
            "[>>Código 3 Saldo 500<<]\n",
            "[>>Código 133 Saldo 500<<]\n",
            "[>>Código 1700 Saldo 500<<]\n"
          ]
        }
      ]
    },
    {
      "cell_type": "code",
      "source": [
        "class ContaSalario:\n",
        "\n",
        "  def __init__(self, codigo):\n",
        "    self._codigo = codigo\n",
        "    self._saldo = 0\n",
        "\n",
        "  def __eq__(self, outro):\n",
        "    if type(outro) != ContaSalario:\n",
        "      return False\n",
        "\n",
        "    return self._codigo == outro._codigo and self._saldo == outro._saldo\n",
        "\n",
        "  def __lt__(self, outro):\n",
        "    if self._saldo != outro._saldo:\n",
        "      return self._saldo < outro._saldo\n",
        "\n",
        "    return self._codigo < outro._codigo\n",
        "\n",
        "  def deposita(self, valor):\n",
        "    self._saldo += valor\n",
        "\n",
        "  def __str__(self):\n",
        "    return '[>>Código {} Saldo {}<<]'.format(self._codigo, self._saldo)\n"
      ],
      "metadata": {
        "id": "nyi2N4u2uJK3"
      },
      "execution_count": null,
      "outputs": []
    },
    {
      "cell_type": "code",
      "source": [
        "conta_do_guilherme = ContaSalario(1700)\n",
        "conta_do_guilherme.deposita(500)\n",
        "\n",
        "conta_da_daniela = ContaSalario(3)\n",
        "conta_da_daniela.deposita(500)\n",
        "\n",
        "conta_do_paulo = ContaSalario(133)\n",
        "conta_do_paulo.deposita(500)\n",
        "\n",
        "contas = [conta_do_guilherme, conta_da_daniela, conta_do_paulo]"
      ],
      "metadata": {
        "id": "Ztvlo7Pvu5_S"
      },
      "execution_count": null,
      "outputs": []
    },
    {
      "cell_type": "code",
      "source": [
        "for conta in sorted(contas):\n",
        "  print(conta)"
      ],
      "metadata": {
        "colab": {
          "base_uri": "https://localhost:8080/"
        },
        "id": "Xnw75N7_u-nJ",
        "outputId": "a184f1fb-39ef-4d75-f4c0-84858bcea0e6"
      },
      "execution_count": null,
      "outputs": [
        {
          "output_type": "stream",
          "name": "stdout",
          "text": [
            "[>>Código 3 Saldo 500<<]\n",
            "[>>Código 133 Saldo 500<<]\n",
            "[>>Código 1700 Saldo 500<<]\n"
          ]
        }
      ]
    },
    {
      "cell_type": "code",
      "source": [
        "conta_do_guilherme <= conta_da_daniela"
      ],
      "metadata": {
        "colab": {
          "base_uri": "https://localhost:8080/",
          "height": 159
        },
        "id": "N4eUanzgvN1z",
        "outputId": "adf5c984-844d-4dcb-8658-84786817d315"
      },
      "execution_count": null,
      "outputs": [
        {
          "output_type": "error",
          "ename": "TypeError",
          "evalue": "'<=' not supported between instances of 'ContaSalario' and 'ContaSalario'",
          "traceback": [
            "\u001b[0;31m---------------------------------------------------------------------------\u001b[0m",
            "\u001b[0;31mTypeError\u001b[0m                                 Traceback (most recent call last)",
            "\u001b[0;32m<ipython-input-247-5f6d4259fd98>\u001b[0m in \u001b[0;36m<cell line: 1>\u001b[0;34m()\u001b[0m\n\u001b[0;32m----> 1\u001b[0;31m \u001b[0mconta_do_guilherme\u001b[0m \u001b[0;34m<=\u001b[0m \u001b[0mconta_da_daniela\u001b[0m\u001b[0;34m\u001b[0m\u001b[0;34m\u001b[0m\u001b[0m\n\u001b[0m",
            "\u001b[0;31mTypeError\u001b[0m: '<=' not supported between instances of 'ContaSalario' and 'ContaSalario'"
          ]
        }
      ]
    },
    {
      "cell_type": "code",
      "source": [
        "from functools import total_ordering\n",
        "\n",
        "@total_ordering\n",
        "class ContaSalario:\n",
        "\n",
        "  def __init__(self, codigo):\n",
        "    self._codigo = codigo\n",
        "    self._saldo = 0\n",
        "\n",
        "  def __eq__(self, outro):\n",
        "    if type(outro) != ContaSalario:\n",
        "      return False\n",
        "\n",
        "    return self._codigo == outro._codigo and self._saldo == outro._saldo\n",
        "\n",
        "  def __lt__(self, outro):\n",
        "    if self._saldo != outro._saldo:\n",
        "      return self._saldo < outro._saldo\n",
        "\n",
        "    return self._codigo < outro._codigo\n",
        "\n",
        "  def deposita(self, valor):\n",
        "    self._saldo += valor\n",
        "\n",
        "  def __str__(self):\n",
        "    return '[>>Código {} Saldo {}<<]'.format(self._codigo, self._saldo)\n"
      ],
      "metadata": {
        "id": "DW9HRKF2vj4i"
      },
      "execution_count": null,
      "outputs": []
    },
    {
      "cell_type": "code",
      "source": [
        "conta_do_guilherme = ContaSalario(1700)\n",
        "conta_do_guilherme.deposita(500)\n",
        "\n",
        "conta_da_daniela = ContaSalario(3)\n",
        "conta_da_daniela.deposita(1000)\n",
        "\n",
        "conta_do_paulo = ContaSalario(133)\n",
        "conta_do_paulo.deposita(500)\n",
        "\n",
        "contas = [conta_do_guilherme, conta_da_daniela, conta_do_paulo]"
      ],
      "metadata": {
        "id": "6k1Va_nXwXGe"
      },
      "execution_count": null,
      "outputs": []
    },
    {
      "cell_type": "code",
      "source": [
        "conta_do_guilherme <= conta_da_daniela"
      ],
      "metadata": {
        "colab": {
          "base_uri": "https://localhost:8080/"
        },
        "id": "uk6oC7dpwjVv",
        "outputId": "eb8dc3fc-ce6e-475b-e3de-4196cca26216"
      },
      "execution_count": null,
      "outputs": [
        {
          "output_type": "execute_result",
          "data": {
            "text/plain": [
              "True"
            ]
          },
          "metadata": {},
          "execution_count": 251
        }
      ]
    },
    {
      "cell_type": "code",
      "source": [
        "conta_do_guilherme <= conta_do_paulo"
      ],
      "metadata": {
        "colab": {
          "base_uri": "https://localhost:8080/"
        },
        "id": "VG71F8c9wpv7",
        "outputId": "cfd47296-c530-4854-beff-30dcdaab6165"
      },
      "execution_count": null,
      "outputs": [
        {
          "output_type": "execute_result",
          "data": {
            "text/plain": [
              "False"
            ]
          },
          "metadata": {},
          "execution_count": 252
        }
      ]
    },
    {
      "cell_type": "code",
      "source": [
        "conta_do_guilherme < conta_do_guilherme"
      ],
      "metadata": {
        "colab": {
          "base_uri": "https://localhost:8080/"
        },
        "id": "fEBQDzP5w0JV",
        "outputId": "64eb5de0-cda4-45d9-a556-9ad54c49d3b7"
      },
      "execution_count": null,
      "outputs": [
        {
          "output_type": "execute_result",
          "data": {
            "text/plain": [
              "False"
            ]
          },
          "metadata": {},
          "execution_count": 253
        }
      ]
    },
    {
      "cell_type": "code",
      "source": [
        "conta_do_guilherme == conta_do_guilherme"
      ],
      "metadata": {
        "colab": {
          "base_uri": "https://localhost:8080/"
        },
        "id": "rDlZOzU1w5HL",
        "outputId": "5b058add-6eb7-49d6-be2d-f99fd3672f81"
      },
      "execution_count": null,
      "outputs": [
        {
          "output_type": "execute_result",
          "data": {
            "text/plain": [
              "True"
            ]
          },
          "metadata": {},
          "execution_count": 254
        }
      ]
    },
    {
      "cell_type": "code",
      "source": [
        "conta_do_guilherme <= conta_do_guilherme"
      ],
      "metadata": {
        "id": "pimhuj1Bw-xH",
        "outputId": "a1361181-a71b-4d71-d031-f74734d91979",
        "colab": {
          "base_uri": "https://localhost:8080/"
        }
      },
      "execution_count": null,
      "outputs": [
        {
          "output_type": "execute_result",
          "data": {
            "text/plain": [
              "True"
            ]
          },
          "metadata": {},
          "execution_count": 255
        }
      ]
    }
  ]
}