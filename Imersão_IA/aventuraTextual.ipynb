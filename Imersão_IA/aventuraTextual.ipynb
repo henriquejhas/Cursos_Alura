{
  "nbformat": 4,
  "nbformat_minor": 0,
  "metadata": {
    "colab": {
      "provenance": [],
      "authorship_tag": "ABX9TyOOSTJ+4HfgiksHBgYM9osR",
      "include_colab_link": true
    },
    "kernelspec": {
      "name": "python3",
      "display_name": "Python 3"
    },
    "language_info": {
      "name": "python"
    }
  },
  "cells": [
    {
      "cell_type": "markdown",
      "metadata": {
        "id": "view-in-github",
        "colab_type": "text"
      },
      "source": [
        "<a href=\"https://colab.research.google.com/github/henriquejhas/Cursos_Alura/blob/main/Imers%C3%A3o_IA/aventuraTextual.ipynb\" target=\"_parent\"><img src=\"https://colab.research.google.com/assets/colab-badge.svg\" alt=\"Open In Colab\"/></a>"
      ]
    },
    {
      "cell_type": "markdown",
      "source": [
        "Instala a biblioteca Google Generative AI (se necessário)"
      ],
      "metadata": {
        "id": "0JRsrSVTscDg"
      }
    },
    {
      "cell_type": "code",
      "source": [
        "!pip install -q -U google-generativeai"
      ],
      "metadata": {
        "id": "hN5u7AHgslT9"
      },
      "execution_count": null,
      "outputs": []
    },
    {
      "cell_type": "markdown",
      "source": [
        "Importa as bibliotecas necessárias"
      ],
      "metadata": {
        "id": "DOoDWK2TsryZ"
      }
    },
    {
      "cell_type": "code",
      "source": [
        "import google.generativeai as genai\n",
        "import random\n",
        "import textwrap\n",
        "from google.colab import userdata\n",
        "from IPython.display import display\n",
        "from IPython.display import Markdown"
      ],
      "metadata": {
        "id": "3QxhywF6sz8l"
      },
      "execution_count": null,
      "outputs": []
    },
    {
      "cell_type": "markdown",
      "source": [
        "Função para formatar texto em Markdown"
      ],
      "metadata": {
        "id": "Dyt9QY1ds17e"
      }
    },
    {
      "cell_type": "code",
      "source": [
        "def to_markdown(text):\n",
        "    text = text.replace('•', '  *')  # Substitui marcadores por asteriscos\n",
        "    return Markdown(textwrap.indent(text, '> ', predicate=lambda _: True))"
      ],
      "metadata": {
        "id": "9W8lWOvvtGf4"
      },
      "execution_count": null,
      "outputs": []
    },
    {
      "cell_type": "markdown",
      "source": [
        "Configura a API com a sua chave"
      ],
      "metadata": {
        "id": "RIP-3-WItRET"
      }
    },
    {
      "cell_type": "code",
      "source": [
        "GOOGLE_API_KEY = userdata.get('SECRET_KEY')\n",
        "genai.configure(api_key=GOOGLE_API_KEY)"
      ],
      "metadata": {
        "id": "1OYhdDRgte22"
      },
      "execution_count": null,
      "outputs": []
    },
    {
      "cell_type": "markdown",
      "source": [
        "Define configurações de geração de texto"
      ],
      "metadata": {
        "id": "h3ZyYG-CtpJ9"
      }
    },
    {
      "cell_type": "code",
      "source": [
        "generation_config = {\n",
        "    \"candidate_count\": 1,  # Número de respostas candidatas a serem geradas\n",
        "    \"temperature\": 0.9,   # Nível de criatividade (0 = menos criativo, 1 = mais criativo)\n",
        "}\n",
        "\n",
        "safety_settings = {\n",
        "    \"HARASSMENT\": \"BLOCK_NONE\",  # Não bloquear conteúdo de assédio\n",
        "    \"HATE\": \"BLOCK_NONE\",       # Não bloquear conteúdo de ódio\n",
        "    \"SEXUAL\": \"BLOCK_NONE\",     # Não bloquear conteúdo sexual\n",
        "    \"DANGEROUS\": \"BLOCK_NONE\"   # Não bloquear conteúdo perigoso\n",
        "}"
      ],
      "metadata": {
        "id": "77mbVUyAt2iE"
      },
      "execution_count": null,
      "outputs": []
    },
    {
      "cell_type": "markdown",
      "source": [
        " Cria um modelo generativo e iniciar o modelo de chat\n"
      ],
      "metadata": {
        "id": "JSg5yzrVuC9r"
      }
    },
    {
      "cell_type": "code",
      "source": [
        "model = genai.GenerativeModel(model_name=\"gemini-1.0-pro\",\n",
        "                             generation_config=generation_config,\n",
        "                             safety_settings=safety_settings)\n",
        "\n",
        "chat = model.start_chat(history=[])"
      ],
      "metadata": {
        "id": "P6jcwTcUuMCl"
      },
      "execution_count": null,
      "outputs": []
    },
    {
      "cell_type": "code",
      "source": [
        "\n",
        "# Lista de temas possíveis para o cenário do jogo\n",
        "temas = [\"Laboratório Secreto Subterrâneo\", \"A Floresta dos Sussurros\", \"Castelo Medieval\", \"Casa mal-assambrada\"]\n",
        "\n",
        "# Escolhe um tema aleatoriamente\n",
        "tema = random.choice(temas)\n",
        "\n",
        "\n",
        "# Cria o prompt inicial pedindo ao modelo para gerar um cenário\n",
        "prompt = f\"Cria um cenário de mistério, fantasia, suspense e sem personagens. Somente um parágrafo sobre {tema}\"\n",
        "\n",
        "# Envia o prompt para o modelo e obtém a resposta\n",
        "response = chat.send_message(prompt)\n",
        "\n",
        "# Define o prompt inicial do jogo com instruções e exemplos\n",
        "prompt = \"\"\"Você é um Jogo de Aventura Textual baseado no cenário que você criou anteriormente!\n",
        "modelos:\n",
        "--------------\n",
        "Laboratório Secreto Subterrâneo\n",
        "Você se encontra no umbral de um laboratório secreto subterrâneo, escondido sob a escuridão impenetrável do solo.\n",
        "O zumbido constante de máquinas invisíveis cria uma atmosfera sufocante de mistério e antecipação.\n",
        "Escolha uma ação:\n",
        "1. Entrar no laboratório, ignorando o perigo potencial.\n",
        "2. Explorar a área ao redor, procurando uma entrada alternativa.\n",
        "3. Retroceder, abandonando a missão.\n",
        "--------------\n",
        "Entrando na Floresta\n",
        "Você se aproxima da orla da Floresta dos Sussurros, o ar úmido envolve sua pele como um manto frio.\n",
        "As árvores gigantescas lançam sombras longas, criando uma sensação de apreensão.\n",
        "Escolha uma opção:\n",
        "1. Entre na floresta, ignorando todos os avisos.\n",
        "2. Dê meia-volta e vá embora.\n",
        "3. Explore a orla da floresta, procurando uma entrada mais segura.\n",
        "--------------\n",
        "Mecanismo do jogo passo a passo:\n",
        "Criar descrições vívidas e imersivas, mas não muito longa;\n",
        "Sem violência;\n",
        "Dê 3 opções de ações para o jogar escolher;\n",
        "O jogador digita a opção desejada;\n",
        "O jogador sempre acaba bem.\n",
        "Vamos começar\"\"\"\n"
      ],
      "metadata": {
        "id": "39kwaqvyu1ib"
      },
      "execution_count": null,
      "outputs": []
    },
    {
      "cell_type": "markdown",
      "source": [
        "Loop principal do jogo"
      ],
      "metadata": {
        "id": "ktF6wNJwvDh2"
      }
    },
    {
      "cell_type": "code",
      "source": [
        "while prompt != \"fim\":\n",
        "    # Envia o prompt atual para o modelo e obtém a resposta\n",
        "    response = chat.send_message(prompt)\n",
        "\n",
        "    # Imprime a resposta do modelo\n",
        "    print(\"Resposta: \", response.text, \"\\n\")\n",
        "\n",
        "    # Exibe o histórico do chat formatado em Markdown\n",
        "    contar = 1\n",
        "    for message in chat.history:\n",
        "        contar = contar + 1\n",
        "        if contar > 4:\n",
        "            display(to_markdown(f'**{message.role}**: {message.parts[0].text}'))\n",
        "            print('-------------------------------------------')\n",
        "\n",
        "    # Aguarda a entrada do usuário para o próximo prompt\n",
        "    prompt = input(\"Esperando prompt: \")"
      ],
      "metadata": {
        "id": "VF8WKWWcvF3j"
      },
      "execution_count": null,
      "outputs": []
    }
  ]
}